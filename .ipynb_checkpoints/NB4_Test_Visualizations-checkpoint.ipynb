{
 "cells": [
  {
   "cell_type": "markdown",
   "metadata": {},
   "source": [
    "In this notebook, I take the test dataset with the probability predictions, and do some EDA and create some visuals."
   ]
  },
  {
   "cell_type": "code",
   "execution_count": 1,
   "metadata": {},
   "outputs": [],
   "source": [
    "import pandas as pd\n",
    "import numpy as np\n",
    "import matplotlib.pyplot as plt\n",
    "import seaborn as sns\n",
    "\n",
    "%matplotlib inline"
   ]
  },
  {
   "cell_type": "code",
   "execution_count": 2,
   "metadata": {},
   "outputs": [],
   "source": [
    "pd.set_option('display.max_columns', 100)"
   ]
  },
  {
   "cell_type": "code",
   "execution_count": 4,
   "metadata": {},
   "outputs": [],
   "source": [
    "df = pd.read_csv('./datasets/my_data/test_probas.csv')"
   ]
  },
  {
   "cell_type": "code",
   "execution_count": 5,
   "metadata": {},
   "outputs": [
    {
     "data": {
      "text/plain": [
       "Index(['name', 'TDCJ_ID', 'sex', 'race', 'age', 'DOB', 'home_county',\n",
       "       'proj_release_date', 'feature_crime', 'feature_commit_date',\n",
       "       'target_value', 'final_target', 'prison_related_crime',\n",
       "       'tampering_crime', 'credit_card_crime', 'elderly_crime', 'escape_crime',\n",
       "       'evading_crime', 'theft_crime', 'sex_crime', 'crime_involving_child',\n",
       "       'drugs_crime', 'assault_crime', 'aggravated_crime',\n",
       "       'deadly_weapon_crime', 'alcohol_crime', 'arson_crime',\n",
       "       'manslaughter_crime', 'organized_crime', 'forgery_crime',\n",
       "       'vehicle_crime', 'other_crime', 'commit_age', 'feature_term_flt',\n",
       "       'target_preds', 'target_probas'],\n",
       "      dtype='object')"
      ]
     },
     "execution_count": 5,
     "metadata": {},
     "output_type": "execute_result"
    }
   ],
   "source": [
    "df.columns"
   ]
  },
  {
   "cell_type": "code",
   "execution_count": 6,
   "metadata": {},
   "outputs": [
    {
     "data": {
      "text/plain": [
       "<matplotlib.axes._subplots.AxesSubplot at 0x1a172fc748>"
      ]
     },
     "execution_count": 6,
     "metadata": {},
     "output_type": "execute_result"
    },
    {
     "data": {
      "image/png": "[encoded data removed]",
      "text/plain": [
       "<Figure size 432x288 with 1 Axes>"
      ]
     },
     "metadata": {
      "needs_background": "light"
     },
     "output_type": "display_data"
    }
   ],
   "source": [
    "df.target_probas.hist()"
   ]
  },
  {
   "cell_type": "code",
   "execution_count": 7,
   "metadata": {
    "scrolled": true
   },
   "outputs": [
    {
     "data": {
      "text/html": [
       "<div>\n",
       "<style scoped>\n",
       "    .dataframe tbody tr th:only-of-type {\n",
       "        vertical-align: middle;\n",
       "    }\n",
       "\n",
       "    .dataframe tbody tr th {\n",
       "        vertical-align: top;\n",
       "    }\n",
       "\n",
       "    .dataframe thead th {\n",
       "        text-align: right;\n",
       "    }\n",
       "</style>\n",
       "<table border=\"1\" class=\"dataframe\">\n",
       "  <thead>\n",
       "    <tr style=\"text-align: right;\">\n",
       "      <th></th>\n",
       "      <th>age</th>\n",
       "    </tr>\n",
       "    <tr>\n",
       "      <th>race</th>\n",
       "      <th></th>\n",
       "    </tr>\n",
       "  </thead>\n",
       "  <tbody>\n",
       "    <tr>\n",
       "      <th>Asian</th>\n",
       "      <td>38.871795</td>\n",
       "    </tr>\n",
       "    <tr>\n",
       "      <th>Black</th>\n",
       "      <td>36.404275</td>\n",
       "    </tr>\n",
       "    <tr>\n",
       "      <th>Hispanic</th>\n",
       "      <td>37.112301</td>\n",
       "    </tr>\n",
       "    <tr>\n",
       "      <th>Indian</th>\n",
       "      <td>45.750000</td>\n",
       "    </tr>\n",
       "    <tr>\n",
       "      <th>Other</th>\n",
       "      <td>37.777778</td>\n",
       "    </tr>\n",
       "    <tr>\n",
       "      <th>White</th>\n",
       "      <td>39.913180</td>\n",
       "    </tr>\n",
       "  </tbody>\n",
       "</table>\n",
       "</div>"
      ],
      "text/plain": [
       "                age\n",
       "race               \n",
       "Asian     38.871795\n",
       "Black     36.404275\n",
       "Hispanic  37.112301\n",
       "Indian    45.750000\n",
       "Other     37.777778\n",
       "White     39.913180"
      ]
     },
     "execution_count": 7,
     "metadata": {},
     "output_type": "execute_result"
    }
   ],
   "source": [
    "df.groupby('race')['age'].mean().to_frame()"
   ]
  },
  {
   "cell_type": "code",
   "execution_count": 8,
   "metadata": {},
   "outputs": [
    {
     "data": {
      "text/html": [
       "<div>\n",
       "<style scoped>\n",
       "    .dataframe tbody tr th:only-of-type {\n",
       "        vertical-align: middle;\n",
       "    }\n",
       "\n",
       "    .dataframe tbody tr th {\n",
       "        vertical-align: top;\n",
       "    }\n",
       "\n",
       "    .dataframe thead th {\n",
       "        text-align: right;\n",
       "    }\n",
       "</style>\n",
       "<table border=\"1\" class=\"dataframe\">\n",
       "  <thead>\n",
       "    <tr style=\"text-align: right;\">\n",
       "      <th></th>\n",
       "      <th>target_probas</th>\n",
       "    </tr>\n",
       "    <tr>\n",
       "      <th>race</th>\n",
       "      <th></th>\n",
       "    </tr>\n",
       "  </thead>\n",
       "  <tbody>\n",
       "    <tr>\n",
       "      <th>Black</th>\n",
       "      <td>0.759784</td>\n",
       "    </tr>\n",
       "    <tr>\n",
       "      <th>White</th>\n",
       "      <td>0.755775</td>\n",
       "    </tr>\n",
       "    <tr>\n",
       "      <th>Hispanic</th>\n",
       "      <td>0.734207</td>\n",
       "    </tr>\n",
       "    <tr>\n",
       "      <th>Indian</th>\n",
       "      <td>0.718471</td>\n",
       "    </tr>\n",
       "    <tr>\n",
       "      <th>Asian</th>\n",
       "      <td>0.677388</td>\n",
       "    </tr>\n",
       "    <tr>\n",
       "      <th>Other</th>\n",
       "      <td>0.661585</td>\n",
       "    </tr>\n",
       "  </tbody>\n",
       "</table>\n",
       "</div>"
      ],
      "text/plain": [
       "          target_probas\n",
       "race                   \n",
       "Black          0.759784\n",
       "White          0.755775\n",
       "Hispanic       0.734207\n",
       "Indian         0.718471\n",
       "Asian          0.677388\n",
       "Other          0.661585"
      ]
     },
     "execution_count": 8,
     "metadata": {},
     "output_type": "execute_result"
    }
   ],
   "source": [
    "race_probas = df.groupby('race')['target_probas'].mean().sort_values(ascending=False).to_frame()\n",
    "race_probas"
   ]
  },
  {
   "cell_type": "code",
   "execution_count": 9,
   "metadata": {},
   "outputs": [
    {
     "data": {
      "text/html": [
       "<div>\n",
       "<style scoped>\n",
       "    .dataframe tbody tr th:only-of-type {\n",
       "        vertical-align: middle;\n",
       "    }\n",
       "\n",
       "    .dataframe tbody tr th {\n",
       "        vertical-align: top;\n",
       "    }\n",
       "\n",
       "    .dataframe thead th {\n",
       "        text-align: right;\n",
       "    }\n",
       "</style>\n",
       "<table border=\"1\" class=\"dataframe\">\n",
       "  <thead>\n",
       "    <tr style=\"text-align: right;\">\n",
       "      <th></th>\n",
       "      <th>race</th>\n",
       "    </tr>\n",
       "  </thead>\n",
       "  <tbody>\n",
       "    <tr>\n",
       "      <th>Hispanic</th>\n",
       "      <td>3642</td>\n",
       "    </tr>\n",
       "    <tr>\n",
       "      <th>Black</th>\n",
       "      <td>3181</td>\n",
       "    </tr>\n",
       "    <tr>\n",
       "      <th>White</th>\n",
       "      <td>3179</td>\n",
       "    </tr>\n",
       "    <tr>\n",
       "      <th>Asian</th>\n",
       "      <td>39</td>\n",
       "    </tr>\n",
       "    <tr>\n",
       "      <th>Other</th>\n",
       "      <td>9</td>\n",
       "    </tr>\n",
       "    <tr>\n",
       "      <th>Indian</th>\n",
       "      <td>4</td>\n",
       "    </tr>\n",
       "  </tbody>\n",
       "</table>\n",
       "</div>"
      ],
      "text/plain": [
       "          race\n",
       "Hispanic  3642\n",
       "Black     3181\n",
       "White     3179\n",
       "Asian       39\n",
       "Other        9\n",
       "Indian       4"
      ]
     },
     "execution_count": 9,
     "metadata": {},
     "output_type": "execute_result"
    }
   ],
   "source": [
    "df.race.value_counts().to_frame()"
   ]
  },
  {
   "cell_type": "code",
   "execution_count": 10,
   "metadata": {},
   "outputs": [
    {
     "data": {
      "text/html": [
       "<div>\n",
       "<style scoped>\n",
       "    .dataframe tbody tr th:only-of-type {\n",
       "        vertical-align: middle;\n",
       "    }\n",
       "\n",
       "    .dataframe tbody tr th {\n",
       "        vertical-align: top;\n",
       "    }\n",
       "\n",
       "    .dataframe thead th {\n",
       "        text-align: right;\n",
       "    }\n",
       "</style>\n",
       "<table border=\"1\" class=\"dataframe\">\n",
       "  <thead>\n",
       "    <tr style=\"text-align: right;\">\n",
       "      <th></th>\n",
       "      <th>sex</th>\n",
       "    </tr>\n",
       "  </thead>\n",
       "  <tbody>\n",
       "    <tr>\n",
       "      <th>Male</th>\n",
       "      <td>9352</td>\n",
       "    </tr>\n",
       "    <tr>\n",
       "      <th>Female</th>\n",
       "      <td>702</td>\n",
       "    </tr>\n",
       "  </tbody>\n",
       "</table>\n",
       "</div>"
      ],
      "text/plain": [
       "         sex\n",
       "Male    9352\n",
       "Female   702"
      ]
     },
     "execution_count": 10,
     "metadata": {},
     "output_type": "execute_result"
    }
   ],
   "source": [
    "df.sex.value_counts().to_frame()"
   ]
  },
  {
   "cell_type": "code",
   "execution_count": 11,
   "metadata": {},
   "outputs": [
    {
     "data": {
      "text/plain": [
       "Index(['name', 'TDCJ_ID', 'sex', 'race', 'age', 'DOB', 'home_county',\n",
       "       'proj_release_date', 'feature_crime', 'feature_commit_date',\n",
       "       'target_value', 'final_target', 'prison_related_crime',\n",
       "       'tampering_crime', 'credit_card_crime', 'elderly_crime', 'escape_crime',\n",
       "       'evading_crime', 'theft_crime', 'sex_crime', 'crime_involving_child',\n",
       "       'drugs_crime', 'assault_crime', 'aggravated_crime',\n",
       "       'deadly_weapon_crime', 'alcohol_crime', 'arson_crime',\n",
       "       'manslaughter_crime', 'organized_crime', 'forgery_crime',\n",
       "       'vehicle_crime', 'other_crime', 'commit_age', 'feature_term_flt',\n",
       "       'target_preds', 'target_probas'],\n",
       "      dtype='object')"
      ]
     },
     "execution_count": 11,
     "metadata": {},
     "output_type": "execute_result"
    }
   ],
   "source": [
    "df.columns"
   ]
  },
  {
   "cell_type": "code",
   "execution_count": 12,
   "metadata": {},
   "outputs": [
    {
     "name": "stdout",
     "output_type": "stream",
     "text": [
      "11.408858498121116\n",
      "76.4971217752589\n"
     ]
    }
   ],
   "source": [
    "print(df['commit_age'].min())\n",
    "print(df['commit_age'].max())"
   ]
  },
  {
   "cell_type": "code",
   "execution_count": 13,
   "metadata": {},
   "outputs": [
    {
     "data": {
      "text/html": [
       "<div>\n",
       "<style scoped>\n",
       "    .dataframe tbody tr th:only-of-type {\n",
       "        vertical-align: middle;\n",
       "    }\n",
       "\n",
       "    .dataframe tbody tr th {\n",
       "        vertical-align: top;\n",
       "    }\n",
       "\n",
       "    .dataframe thead th {\n",
       "        text-align: right;\n",
       "    }\n",
       "</style>\n",
       "<table border=\"1\" class=\"dataframe\">\n",
       "  <thead>\n",
       "    <tr style=\"text-align: right;\">\n",
       "      <th></th>\n",
       "      <th>name</th>\n",
       "      <th>TDCJ_ID</th>\n",
       "      <th>sex</th>\n",
       "      <th>race</th>\n",
       "      <th>age</th>\n",
       "      <th>DOB</th>\n",
       "      <th>home_county</th>\n",
       "      <th>proj_release_date</th>\n",
       "      <th>feature_crime</th>\n",
       "      <th>feature_commit_date</th>\n",
       "      <th>target_value</th>\n",
       "      <th>final_target</th>\n",
       "      <th>prison_related_crime</th>\n",
       "      <th>tampering_crime</th>\n",
       "      <th>credit_card_crime</th>\n",
       "      <th>elderly_crime</th>\n",
       "      <th>escape_crime</th>\n",
       "      <th>evading_crime</th>\n",
       "      <th>theft_crime</th>\n",
       "      <th>sex_crime</th>\n",
       "      <th>crime_involving_child</th>\n",
       "      <th>drugs_crime</th>\n",
       "      <th>assault_crime</th>\n",
       "      <th>aggravated_crime</th>\n",
       "      <th>deadly_weapon_crime</th>\n",
       "      <th>alcohol_crime</th>\n",
       "      <th>arson_crime</th>\n",
       "      <th>manslaughter_crime</th>\n",
       "      <th>organized_crime</th>\n",
       "      <th>forgery_crime</th>\n",
       "      <th>vehicle_crime</th>\n",
       "      <th>other_crime</th>\n",
       "      <th>commit_age</th>\n",
       "      <th>feature_term_flt</th>\n",
       "      <th>target_preds</th>\n",
       "      <th>target_probas</th>\n",
       "    </tr>\n",
       "  </thead>\n",
       "  <tbody>\n",
       "    <tr>\n",
       "      <th>1656</th>\n",
       "      <td>Henry L Smith</td>\n",
       "      <td>2265728</td>\n",
       "      <td>Male</td>\n",
       "      <td>White</td>\n",
       "      <td>28</td>\n",
       "      <td>1991-01-01</td>\n",
       "      <td>Bowie</td>\n",
       "      <td>2020-07-22</td>\n",
       "      <td>INDEC W/CHILD</td>\n",
       "      <td>2002-05-30</td>\n",
       "      <td>HARASS PER CORR FAC</td>\n",
       "      <td>1</td>\n",
       "      <td>0</td>\n",
       "      <td>0</td>\n",
       "      <td>0</td>\n",
       "      <td>0</td>\n",
       "      <td>0</td>\n",
       "      <td>0</td>\n",
       "      <td>0</td>\n",
       "      <td>0</td>\n",
       "      <td>1</td>\n",
       "      <td>0</td>\n",
       "      <td>0</td>\n",
       "      <td>0</td>\n",
       "      <td>0</td>\n",
       "      <td>0</td>\n",
       "      <td>0</td>\n",
       "      <td>0</td>\n",
       "      <td>0</td>\n",
       "      <td>0</td>\n",
       "      <td>0</td>\n",
       "      <td>0</td>\n",
       "      <td>11.408858</td>\n",
       "      <td>10.0</td>\n",
       "      <td>1</td>\n",
       "      <td>0.657812</td>\n",
       "    </tr>\n",
       "  </tbody>\n",
       "</table>\n",
       "</div>"
      ],
      "text/plain": [
       "               name  TDCJ_ID   sex   race  age         DOB home_county  \\\n",
       "1656  Henry L Smith  2265728  Male  White   28  1991-01-01       Bowie   \n",
       "\n",
       "     proj_release_date  feature_crime feature_commit_date  \\\n",
       "1656        2020-07-22  INDEC W/CHILD          2002-05-30   \n",
       "\n",
       "             target_value  final_target  prison_related_crime  \\\n",
       "1656  HARASS PER CORR FAC             1                     0   \n",
       "\n",
       "      tampering_crime  credit_card_crime  elderly_crime  escape_crime  \\\n",
       "1656                0                  0              0             0   \n",
       "\n",
       "      evading_crime  theft_crime  sex_crime  crime_involving_child  \\\n",
       "1656              0            0          0                      1   \n",
       "\n",
       "      drugs_crime  assault_crime  aggravated_crime  deadly_weapon_crime  \\\n",
       "1656            0              0                 0                    0   \n",
       "\n",
       "      alcohol_crime  arson_crime  manslaughter_crime  organized_crime  \\\n",
       "1656              0            0                   0                0   \n",
       "\n",
       "      forgery_crime  vehicle_crime  other_crime  commit_age  feature_term_flt  \\\n",
       "1656              0              0            0   11.408858              10.0   \n",
       "\n",
       "      target_preds  target_probas  \n",
       "1656             1       0.657812  "
      ]
     },
     "execution_count": 13,
     "metadata": {},
     "output_type": "execute_result"
    }
   ],
   "source": [
    "df[df['commit_age'] == 11.408858498121116]"
   ]
  },
  {
   "cell_type": "code",
   "execution_count": 122,
   "metadata": {},
   "outputs": [],
   "source": [
    "#i could not find this inmate going through the website, had to locate the slug to get there\n",
    "slugs = pd.read_csv('../datasets/my_data/older_datasets/inmate_slugs_all.csv')"
   ]
  },
  {
   "cell_type": "code",
   "execution_count": 127,
   "metadata": {},
   "outputs": [],
   "source": [
    "slugs = slugs['href']"
   ]
  },
  {
   "cell_type": "code",
   "execution_count": 129,
   "metadata": {},
   "outputs": [
    {
     "data": {
      "text/plain": [
       "['/library/data/texas-prisons/inmates/henry-l-smith/1251516/']"
      ]
     },
     "execution_count": 129,
     "metadata": {},
     "output_type": "execute_result"
    }
   ],
   "source": [
    "[slug for slug in slugs if 'henry-l-smith' in slug]"
   ]
  },
  {
   "cell_type": "code",
   "execution_count": 120,
   "metadata": {},
   "outputs": [
    {
     "name": "stdout",
     "output_type": "stream",
     "text": [
      "2019-08-22\n",
      "2049-08-31\n"
     ]
    }
   ],
   "source": [
    "print(df['proj_release_date'].min())\n",
    "print(df['proj_release_date'].max())"
   ]
  },
  {
   "cell_type": "code",
   "execution_count": 85,
   "metadata": {},
   "outputs": [
    {
     "data": {
      "text/plain": [
       "Text(0.5, 1.0, 'Predicted Probabilities of Reoffense by Race')"
      ]
     },
     "execution_count": 85,
     "metadata": {},
     "output_type": "execute_result"
    },
    {
     "data": {
      "image/png": "[encoded data removed]",
      "text/plain": [
       "<Figure size 432x288 with 1 Axes>"
      ]
     },
     "metadata": {},
     "output_type": "display_data"
    }
   ],
   "source": [
    "sns.barplot(x='race', y='target_probas', data=df).set_title('Predicted Probabilities of Reoffense by Race')"
   ]
  },
  {
   "cell_type": "code",
   "execution_count": 113,
   "metadata": {},
   "outputs": [
    {
     "data": {
      "text/plain": [
       "Text(0.5, 1.0, 'Probability Distributions')"
      ]
     },
     "execution_count": 113,
     "metadata": {},
     "output_type": "execute_result"
    },
    {
     "data": {
      "image/png": "[encoded data removed]",
      "text/plain": [
       "<Figure size 432x288 with 1 Axes>"
      ]
     },
     "metadata": {},
     "output_type": "display_data"
    }
   ],
   "source": [
    "sns.distplot(df.target_probas).set_title('Probability Distributions')"
   ]
  },
  {
   "cell_type": "code",
   "execution_count": 81,
   "metadata": {},
   "outputs": [
    {
     "data": {
      "text/plain": [
       "Index(['name', 'TDCJ_ID', 'sex', 'race', 'age', 'DOB', 'home_county',\n",
       "       'proj_release_date', 'feature_crime', 'feature_commit_date',\n",
       "       'target_value', 'final_target', 'prison_related_crime',\n",
       "       'tampering_crime', 'credit_card_crime', 'elderly_crime', 'escape_crime',\n",
       "       'evading_crime', 'theft_crime', 'sex_crime', 'crime_involving_child',\n",
       "       'drugs_crime', 'assault_crime', 'aggravated_crime',\n",
       "       'deadly_weapon_crime', 'alcohol_crime', 'arson_crime',\n",
       "       'manslaughter_crime', 'organized_crime', 'forgery_crime',\n",
       "       'vehicle_crime', 'other_crime', 'commit_age', 'feature_term_flt',\n",
       "       'target_preds', 'target_probas'],\n",
       "      dtype='object')"
      ]
     },
     "execution_count": 81,
     "metadata": {},
     "output_type": "execute_result"
    }
   ],
   "source": [
    "df.columns"
   ]
  },
  {
   "cell_type": "code",
   "execution_count": 90,
   "metadata": {},
   "outputs": [
    {
     "data": {
      "text/plain": [
       "Text(0.5, 1.0, 'Predicted Probability of Reoffense')"
      ]
     },
     "execution_count": 90,
     "metadata": {},
     "output_type": "execute_result"
    },
    {
     "data": {
      "image/png": "[encoded data removed]",
      "text/plain": [
       "<Figure size 432x288 with 1 Axes>"
      ]
     },
     "metadata": {},
     "output_type": "display_data"
    }
   ],
   "source": [
    "sns.scatterplot(x='commit_age', y='target_probas', hue='sex', data=df).set_title('Predicted Probability of Reoffense')"
   ]
  },
  {
   "cell_type": "code",
   "execution_count": 16,
   "metadata": {},
   "outputs": [
    {
     "data": {
      "text/html": [
       "<div>\n",
       "<style scoped>\n",
       "    .dataframe tbody tr th:only-of-type {\n",
       "        vertical-align: middle;\n",
       "    }\n",
       "\n",
       "    .dataframe tbody tr th {\n",
       "        vertical-align: top;\n",
       "    }\n",
       "\n",
       "    .dataframe thead th {\n",
       "        text-align: right;\n",
       "    }\n",
       "</style>\n",
       "<table border=\"1\" class=\"dataframe\">\n",
       "  <thead>\n",
       "    <tr style=\"text-align: right;\">\n",
       "      <th></th>\n",
       "      <th>name</th>\n",
       "      <th>TDCJ_ID</th>\n",
       "      <th>sex</th>\n",
       "      <th>race</th>\n",
       "      <th>age</th>\n",
       "      <th>DOB</th>\n",
       "      <th>home_county</th>\n",
       "      <th>proj_release_date</th>\n",
       "      <th>feature_crime</th>\n",
       "      <th>feature_commit_date</th>\n",
       "      <th>target_value</th>\n",
       "      <th>final_target</th>\n",
       "      <th>prison_related_crime</th>\n",
       "      <th>tampering_crime</th>\n",
       "      <th>credit_card_crime</th>\n",
       "      <th>elderly_crime</th>\n",
       "      <th>escape_crime</th>\n",
       "      <th>evading_crime</th>\n",
       "      <th>theft_crime</th>\n",
       "      <th>sex_crime</th>\n",
       "      <th>crime_involving_child</th>\n",
       "      <th>drugs_crime</th>\n",
       "      <th>assault_crime</th>\n",
       "      <th>aggravated_crime</th>\n",
       "      <th>deadly_weapon_crime</th>\n",
       "      <th>alcohol_crime</th>\n",
       "      <th>arson_crime</th>\n",
       "      <th>manslaughter_crime</th>\n",
       "      <th>organized_crime</th>\n",
       "      <th>forgery_crime</th>\n",
       "      <th>vehicle_crime</th>\n",
       "      <th>other_crime</th>\n",
       "      <th>commit_age</th>\n",
       "      <th>feature_term_flt</th>\n",
       "      <th>target_preds</th>\n",
       "      <th>target_probas</th>\n",
       "    </tr>\n",
       "  </thead>\n",
       "  <tbody>\n",
       "    <tr>\n",
       "      <th>2967</th>\n",
       "      <td>John Love Hambrick</td>\n",
       "      <td>2240365</td>\n",
       "      <td>Male</td>\n",
       "      <td>Black</td>\n",
       "      <td>36</td>\n",
       "      <td>1982-09-08</td>\n",
       "      <td>Tarrant</td>\n",
       "      <td>2022-12-04</td>\n",
       "      <td>FORG POSS OF CHECK W/INT TO PA</td>\n",
       "      <td>2010-12-05</td>\n",
       "      <td>FORG POSS OF CHECK W/INT TO PA</td>\n",
       "      <td>1</td>\n",
       "      <td>0</td>\n",
       "      <td>0</td>\n",
       "      <td>0</td>\n",
       "      <td>0</td>\n",
       "      <td>0</td>\n",
       "      <td>0</td>\n",
       "      <td>0</td>\n",
       "      <td>0</td>\n",
       "      <td>0</td>\n",
       "      <td>1</td>\n",
       "      <td>0</td>\n",
       "      <td>0</td>\n",
       "      <td>0</td>\n",
       "      <td>0</td>\n",
       "      <td>0</td>\n",
       "      <td>0</td>\n",
       "      <td>0</td>\n",
       "      <td>1</td>\n",
       "      <td>0</td>\n",
       "      <td>0</td>\n",
       "      <td>28.241511</td>\n",
       "      <td>0.500000</td>\n",
       "      <td>1</td>\n",
       "      <td>0.980664</td>\n",
       "    </tr>\n",
       "    <tr>\n",
       "      <th>54</th>\n",
       "      <td>Anabel Viramontes</td>\n",
       "      <td>2211178</td>\n",
       "      <td>Female</td>\n",
       "      <td>Hispanic</td>\n",
       "      <td>28</td>\n",
       "      <td>1990-10-28</td>\n",
       "      <td>Tarrant</td>\n",
       "      <td>2021-04-08</td>\n",
       "      <td>THEFT $`,500-$20,000-VEHICLE</td>\n",
       "      <td>2008-01-26</td>\n",
       "      <td>UNAUTH USE OF A VEHICLE</td>\n",
       "      <td>1</td>\n",
       "      <td>0</td>\n",
       "      <td>0</td>\n",
       "      <td>0</td>\n",
       "      <td>0</td>\n",
       "      <td>0</td>\n",
       "      <td>0</td>\n",
       "      <td>1</td>\n",
       "      <td>0</td>\n",
       "      <td>0</td>\n",
       "      <td>0</td>\n",
       "      <td>0</td>\n",
       "      <td>0</td>\n",
       "      <td>0</td>\n",
       "      <td>0</td>\n",
       "      <td>0</td>\n",
       "      <td>0</td>\n",
       "      <td>0</td>\n",
       "      <td>0</td>\n",
       "      <td>1</td>\n",
       "      <td>0</td>\n",
       "      <td>17.246076</td>\n",
       "      <td>0.583333</td>\n",
       "      <td>1</td>\n",
       "      <td>0.979109</td>\n",
       "    </tr>\n",
       "  </tbody>\n",
       "</table>\n",
       "</div>"
      ],
      "text/plain": [
       "                    name  TDCJ_ID     sex      race  age         DOB  \\\n",
       "2967  John Love Hambrick  2240365    Male     Black   36  1982-09-08   \n",
       "54     Anabel Viramontes  2211178  Female  Hispanic   28  1990-10-28   \n",
       "\n",
       "     home_county proj_release_date                   feature_crime  \\\n",
       "2967     Tarrant        2022-12-04  FORG POSS OF CHECK W/INT TO PA   \n",
       "54       Tarrant        2021-04-08    THEFT $`,500-$20,000-VEHICLE   \n",
       "\n",
       "     feature_commit_date                    target_value  final_target  \\\n",
       "2967          2010-12-05  FORG POSS OF CHECK W/INT TO PA             1   \n",
       "54            2008-01-26         UNAUTH USE OF A VEHICLE             1   \n",
       "\n",
       "      prison_related_crime  tampering_crime  credit_card_crime  elderly_crime  \\\n",
       "2967                     0                0                  0              0   \n",
       "54                       0                0                  0              0   \n",
       "\n",
       "      escape_crime  evading_crime  theft_crime  sex_crime  \\\n",
       "2967             0              0            0          0   \n",
       "54               0              0            1          0   \n",
       "\n",
       "      crime_involving_child  drugs_crime  assault_crime  aggravated_crime  \\\n",
       "2967                      0            1              0                 0   \n",
       "54                        0            0              0                 0   \n",
       "\n",
       "      deadly_weapon_crime  alcohol_crime  arson_crime  manslaughter_crime  \\\n",
       "2967                    0              0            0                   0   \n",
       "54                      0              0            0                   0   \n",
       "\n",
       "      organized_crime  forgery_crime  vehicle_crime  other_crime  commit_age  \\\n",
       "2967                0              1              0            0   28.241511   \n",
       "54                  0              0              1            0   17.246076   \n",
       "\n",
       "      feature_term_flt  target_preds  target_probas  \n",
       "2967          0.500000             1       0.980664  \n",
       "54            0.583333             1       0.979109  "
      ]
     },
     "execution_count": 16,
     "metadata": {},
     "output_type": "execute_result"
    }
   ],
   "source": [
    "df.sort_values(by='target_probas', ascending = False)[:2]"
   ]
  },
  {
   "cell_type": "code",
   "execution_count": 45,
   "metadata": {},
   "outputs": [
    {
     "data": {
      "text/plain": [
       "(10054, 36)"
      ]
     },
     "execution_count": 45,
     "metadata": {},
     "output_type": "execute_result"
    }
   ],
   "source": [
    "df.shape"
   ]
  },
  {
   "cell_type": "code",
   "execution_count": 46,
   "metadata": {},
   "outputs": [
    {
     "data": {
      "text/plain": [
       "Hispanic    3642\n",
       "Black       3181\n",
       "White       3179\n",
       "Asian         39\n",
       "Other          9\n",
       "Indian         4\n",
       "Name: race, dtype: int64"
      ]
     },
     "execution_count": 46,
     "metadata": {},
     "output_type": "execute_result"
    }
   ],
   "source": [
    "df.race.value_counts()"
   ]
  },
  {
   "cell_type": "code",
   "execution_count": 47,
   "metadata": {},
   "outputs": [
    {
     "data": {
      "text/html": [
       "<div>\n",
       "<style scoped>\n",
       "    .dataframe tbody tr th:only-of-type {\n",
       "        vertical-align: middle;\n",
       "    }\n",
       "\n",
       "    .dataframe tbody tr th {\n",
       "        vertical-align: top;\n",
       "    }\n",
       "\n",
       "    .dataframe thead th {\n",
       "        text-align: right;\n",
       "    }\n",
       "</style>\n",
       "<table border=\"1\" class=\"dataframe\">\n",
       "  <thead>\n",
       "    <tr style=\"text-align: right;\">\n",
       "      <th></th>\n",
       "      <th>name</th>\n",
       "      <th>TDCJ_ID</th>\n",
       "      <th>sex</th>\n",
       "      <th>race</th>\n",
       "      <th>age</th>\n",
       "      <th>DOB</th>\n",
       "      <th>home_county</th>\n",
       "      <th>proj_release_date</th>\n",
       "      <th>feature_crime</th>\n",
       "      <th>feature_commit_date</th>\n",
       "      <th>target_value</th>\n",
       "      <th>final_target</th>\n",
       "      <th>prison_related_crime</th>\n",
       "      <th>tampering_crime</th>\n",
       "      <th>credit_card_crime</th>\n",
       "      <th>elderly_crime</th>\n",
       "      <th>escape_crime</th>\n",
       "      <th>evading_crime</th>\n",
       "      <th>theft_crime</th>\n",
       "      <th>sex_crime</th>\n",
       "      <th>crime_involving_child</th>\n",
       "      <th>drugs_crime</th>\n",
       "      <th>assault_crime</th>\n",
       "      <th>aggravated_crime</th>\n",
       "      <th>deadly_weapon_crime</th>\n",
       "      <th>alcohol_crime</th>\n",
       "      <th>arson_crime</th>\n",
       "      <th>manslaughter_crime</th>\n",
       "      <th>organized_crime</th>\n",
       "      <th>forgery_crime</th>\n",
       "      <th>vehicle_crime</th>\n",
       "      <th>other_crime</th>\n",
       "      <th>commit_age</th>\n",
       "      <th>feature_term_flt</th>\n",
       "      <th>target_preds</th>\n",
       "      <th>target_probas</th>\n",
       "    </tr>\n",
       "  </thead>\n",
       "  <tbody>\n",
       "    <tr>\n",
       "      <th>0</th>\n",
       "      <td>Juan De Jesus Ramirez</td>\n",
       "      <td>2146909</td>\n",
       "      <td>Male</td>\n",
       "      <td>Hispanic</td>\n",
       "      <td>29</td>\n",
       "      <td>1989-09-08</td>\n",
       "      <td>Val Verde</td>\n",
       "      <td>2021-10-22</td>\n",
       "      <td>AGG ASLT W/DWPN</td>\n",
       "      <td>2012-06-28</td>\n",
       "      <td>SMUGGLING OF PERSONS</td>\n",
       "      <td>1</td>\n",
       "      <td>0</td>\n",
       "      <td>0</td>\n",
       "      <td>0</td>\n",
       "      <td>0</td>\n",
       "      <td>0</td>\n",
       "      <td>0</td>\n",
       "      <td>0</td>\n",
       "      <td>0</td>\n",
       "      <td>0</td>\n",
       "      <td>0</td>\n",
       "      <td>1</td>\n",
       "      <td>1</td>\n",
       "      <td>1</td>\n",
       "      <td>0</td>\n",
       "      <td>0</td>\n",
       "      <td>0</td>\n",
       "      <td>0</td>\n",
       "      <td>0</td>\n",
       "      <td>0</td>\n",
       "      <td>0</td>\n",
       "      <td>22.804027</td>\n",
       "      <td>4.0</td>\n",
       "      <td>1</td>\n",
       "      <td>0.619977</td>\n",
       "    </tr>\n",
       "    <tr>\n",
       "      <th>1</th>\n",
       "      <td>Joel Reyna</td>\n",
       "      <td>1990858</td>\n",
       "      <td>Male</td>\n",
       "      <td>Hispanic</td>\n",
       "      <td>46</td>\n",
       "      <td>1973-01-11</td>\n",
       "      <td>Atascosa</td>\n",
       "      <td>2021-11-08</td>\n",
       "      <td>AGG SEXUAL ASLT</td>\n",
       "      <td>2009-03-03</td>\n",
       "      <td>0</td>\n",
       "      <td>0</td>\n",
       "      <td>0</td>\n",
       "      <td>0</td>\n",
       "      <td>0</td>\n",
       "      <td>0</td>\n",
       "      <td>0</td>\n",
       "      <td>0</td>\n",
       "      <td>0</td>\n",
       "      <td>1</td>\n",
       "      <td>0</td>\n",
       "      <td>0</td>\n",
       "      <td>1</td>\n",
       "      <td>1</td>\n",
       "      <td>0</td>\n",
       "      <td>0</td>\n",
       "      <td>0</td>\n",
       "      <td>0</td>\n",
       "      <td>0</td>\n",
       "      <td>0</td>\n",
       "      <td>0</td>\n",
       "      <td>0</td>\n",
       "      <td>36.140372</td>\n",
       "      <td>7.0</td>\n",
       "      <td>1</td>\n",
       "      <td>0.548098</td>\n",
       "    </tr>\n",
       "    <tr>\n",
       "      <th>2</th>\n",
       "      <td>William Ryan Parks</td>\n",
       "      <td>2217801</td>\n",
       "      <td>Male</td>\n",
       "      <td>White</td>\n",
       "      <td>26</td>\n",
       "      <td>1993-06-26</td>\n",
       "      <td>Guadalupe</td>\n",
       "      <td>2026-03-22</td>\n",
       "      <td>UUV</td>\n",
       "      <td>2018-03-14</td>\n",
       "      <td>MAN DEL CONT SUBS PG1 4-200G</td>\n",
       "      <td>1</td>\n",
       "      <td>0</td>\n",
       "      <td>0</td>\n",
       "      <td>0</td>\n",
       "      <td>0</td>\n",
       "      <td>0</td>\n",
       "      <td>0</td>\n",
       "      <td>0</td>\n",
       "      <td>0</td>\n",
       "      <td>0</td>\n",
       "      <td>0</td>\n",
       "      <td>0</td>\n",
       "      <td>0</td>\n",
       "      <td>0</td>\n",
       "      <td>0</td>\n",
       "      <td>0</td>\n",
       "      <td>0</td>\n",
       "      <td>0</td>\n",
       "      <td>0</td>\n",
       "      <td>1</td>\n",
       "      <td>0</td>\n",
       "      <td>24.715087</td>\n",
       "      <td>1.5</td>\n",
       "      <td>1</td>\n",
       "      <td>0.934701</td>\n",
       "    </tr>\n",
       "    <tr>\n",
       "      <th>3</th>\n",
       "      <td>Juan Ramon Hernandez</td>\n",
       "      <td>1818739</td>\n",
       "      <td>Male</td>\n",
       "      <td>Hispanic</td>\n",
       "      <td>34</td>\n",
       "      <td>1985-03-21</td>\n",
       "      <td>Dallas</td>\n",
       "      <td>2027-03-18</td>\n",
       "      <td>POSS C/S: COCAINE</td>\n",
       "      <td>2012-03-18</td>\n",
       "      <td>INTOXICATED ASLT</td>\n",
       "      <td>1</td>\n",
       "      <td>0</td>\n",
       "      <td>0</td>\n",
       "      <td>0</td>\n",
       "      <td>0</td>\n",
       "      <td>0</td>\n",
       "      <td>0</td>\n",
       "      <td>0</td>\n",
       "      <td>0</td>\n",
       "      <td>0</td>\n",
       "      <td>1</td>\n",
       "      <td>0</td>\n",
       "      <td>0</td>\n",
       "      <td>0</td>\n",
       "      <td>0</td>\n",
       "      <td>0</td>\n",
       "      <td>0</td>\n",
       "      <td>0</td>\n",
       "      <td>0</td>\n",
       "      <td>0</td>\n",
       "      <td>0</td>\n",
       "      <td>26.993025</td>\n",
       "      <td>1.0</td>\n",
       "      <td>1</td>\n",
       "      <td>0.936422</td>\n",
       "    </tr>\n",
       "    <tr>\n",
       "      <th>4</th>\n",
       "      <td>Daqualyn Devonta Davis</td>\n",
       "      <td>2194976</td>\n",
       "      <td>Male</td>\n",
       "      <td>Black</td>\n",
       "      <td>19</td>\n",
       "      <td>2000-02-02</td>\n",
       "      <td>Dallas</td>\n",
       "      <td>2026-03-29</td>\n",
       "      <td>AGG ROBBERY</td>\n",
       "      <td>2015-11-05</td>\n",
       "      <td>0</td>\n",
       "      <td>0</td>\n",
       "      <td>0</td>\n",
       "      <td>0</td>\n",
       "      <td>0</td>\n",
       "      <td>0</td>\n",
       "      <td>0</td>\n",
       "      <td>0</td>\n",
       "      <td>1</td>\n",
       "      <td>0</td>\n",
       "      <td>0</td>\n",
       "      <td>0</td>\n",
       "      <td>0</td>\n",
       "      <td>1</td>\n",
       "      <td>0</td>\n",
       "      <td>0</td>\n",
       "      <td>0</td>\n",
       "      <td>0</td>\n",
       "      <td>0</td>\n",
       "      <td>0</td>\n",
       "      <td>0</td>\n",
       "      <td>0</td>\n",
       "      <td>15.756655</td>\n",
       "      <td>10.0</td>\n",
       "      <td>1</td>\n",
       "      <td>0.666616</td>\n",
       "    </tr>\n",
       "  </tbody>\n",
       "</table>\n",
       "</div>"
      ],
      "text/plain": [
       "                     name  TDCJ_ID   sex      race  age         DOB  \\\n",
       "0   Juan De Jesus Ramirez  2146909  Male  Hispanic   29  1989-09-08   \n",
       "1              Joel Reyna  1990858  Male  Hispanic   46  1973-01-11   \n",
       "2      William Ryan Parks  2217801  Male     White   26  1993-06-26   \n",
       "3    Juan Ramon Hernandez  1818739  Male  Hispanic   34  1985-03-21   \n",
       "4  Daqualyn Devonta Davis  2194976  Male     Black   19  2000-02-02   \n",
       "\n",
       "  home_county proj_release_date      feature_crime feature_commit_date  \\\n",
       "0   Val Verde        2021-10-22    AGG ASLT W/DWPN          2012-06-28   \n",
       "1    Atascosa        2021-11-08    AGG SEXUAL ASLT          2009-03-03   \n",
       "2   Guadalupe        2026-03-22                UUV          2018-03-14   \n",
       "3      Dallas        2027-03-18  POSS C/S: COCAINE          2012-03-18   \n",
       "4      Dallas        2026-03-29        AGG ROBBERY          2015-11-05   \n",
       "\n",
       "                   target_value  final_target  prison_related_crime  \\\n",
       "0          SMUGGLING OF PERSONS             1                     0   \n",
       "1                             0             0                     0   \n",
       "2  MAN DEL CONT SUBS PG1 4-200G             1                     0   \n",
       "3              INTOXICATED ASLT             1                     0   \n",
       "4                             0             0                     0   \n",
       "\n",
       "   tampering_crime  credit_card_crime  elderly_crime  escape_crime  \\\n",
       "0                0                  0              0             0   \n",
       "1                0                  0              0             0   \n",
       "2                0                  0              0             0   \n",
       "3                0                  0              0             0   \n",
       "4                0                  0              0             0   \n",
       "\n",
       "   evading_crime  theft_crime  sex_crime  crime_involving_child  drugs_crime  \\\n",
       "0              0            0          0                      0            0   \n",
       "1              0            0          1                      0            0   \n",
       "2              0            0          0                      0            0   \n",
       "3              0            0          0                      0            1   \n",
       "4              0            1          0                      0            0   \n",
       "\n",
       "   assault_crime  aggravated_crime  deadly_weapon_crime  alcohol_crime  \\\n",
       "0              1                 1                    1              0   \n",
       "1              1                 1                    0              0   \n",
       "2              0                 0                    0              0   \n",
       "3              0                 0                    0              0   \n",
       "4              0                 1                    0              0   \n",
       "\n",
       "   arson_crime  manslaughter_crime  organized_crime  forgery_crime  \\\n",
       "0            0                   0                0              0   \n",
       "1            0                   0                0              0   \n",
       "2            0                   0                0              0   \n",
       "3            0                   0                0              0   \n",
       "4            0                   0                0              0   \n",
       "\n",
       "   vehicle_crime  other_crime  commit_age  feature_term_flt  target_preds  \\\n",
       "0              0            0   22.804027               4.0             1   \n",
       "1              0            0   36.140372               7.0             1   \n",
       "2              1            0   24.715087               1.5             1   \n",
       "3              0            0   26.993025               1.0             1   \n",
       "4              0            0   15.756655              10.0             1   \n",
       "\n",
       "   target_probas  \n",
       "0       0.619977  \n",
       "1       0.548098  \n",
       "2       0.934701  \n",
       "3       0.936422  \n",
       "4       0.666616  "
      ]
     },
     "execution_count": 47,
     "metadata": {},
     "output_type": "execute_result"
    }
   ],
   "source": [
    "df[:5]"
   ]
  },
  {
   "cell_type": "code",
   "execution_count": 17,
   "metadata": {},
   "outputs": [],
   "source": [
    "df = df.sort_values(by='target_probas', ascending=False)"
   ]
  },
  {
   "cell_type": "code",
   "execution_count": 61,
   "metadata": {},
   "outputs": [],
   "source": [
    "df = pd.get_dummies(df, columns=['sex', 'race'])"
   ]
  },
  {
   "cell_type": "markdown",
   "metadata": {},
   "source": [
    "Setting up a dataframe with a window of `30 - 70% probability` on the test dataset."
   ]
  },
  {
   "cell_type": "code",
   "execution_count": 49,
   "metadata": {},
   "outputs": [],
   "source": [
    "focused_df = df[(df['target_probas'] >= .3) & (df['target_probas'] <=.7)]"
   ]
  },
  {
   "cell_type": "code",
   "execution_count": 59,
   "metadata": {},
   "outputs": [],
   "source": [
    "focused_df = pd.get_dummies(focused_df, columns= ['sex', 'race'])\n"
   ]
  },
  {
   "cell_type": "code",
   "execution_count": 98,
   "metadata": {},
   "outputs": [
    {
     "data": {
      "text/plain": [
       "Index(['name', 'TDCJ_ID', 'age', 'DOB', 'home_county', 'proj_release_date',\n",
       "       'feature_crime', 'feature_commit_date', 'target_value', 'final_target',\n",
       "       'prison_related_crime', 'tampering_crime', 'credit_card_crime',\n",
       "       'elderly_crime', 'escape_crime', 'evading_crime', 'theft_crime',\n",
       "       'sex_crime', 'crime_involving_child', 'drugs_crime', 'assault_crime',\n",
       "       'aggravated_crime', 'deadly_weapon_crime', 'alcohol_crime',\n",
       "       'arson_crime', 'manslaughter_crime', 'organized_crime', 'forgery_crime',\n",
       "       'vehicle_crime', 'other_crime', 'commit_age', 'feature_term_flt',\n",
       "       'target_preds', 'target_probas', 'sex_Female', 'sex_Male', 'race_Asian',\n",
       "       'race_Black', 'race_Hispanic', 'race_Indian', 'race_Other',\n",
       "       'race_White'],\n",
       "      dtype='object')"
      ]
     },
     "execution_count": 98,
     "metadata": {},
     "output_type": "execute_result"
    }
   ],
   "source": [
    "focused_df.columns"
   ]
  },
  {
   "cell_type": "code",
   "execution_count": 101,
   "metadata": {},
   "outputs": [],
   "source": [
    "two_years_df = focused_df[focused_df['proj_release_date'] <= '2021-08-72']"
   ]
  },
  {
   "cell_type": "code",
   "execution_count": 97,
   "metadata": {},
   "outputs": [
    {
     "data": {
      "text/plain": [
       "3003"
      ]
     },
     "execution_count": 97,
     "metadata": {},
     "output_type": "execute_result"
    }
   ],
   "source": [
    "len(focused_df)"
   ]
  },
  {
   "cell_type": "code",
   "execution_count": 102,
   "metadata": {},
   "outputs": [
    {
     "data": {
      "text/plain": [
       "504"
      ]
     },
     "execution_count": 102,
     "metadata": {},
     "output_type": "execute_result"
    }
   ],
   "source": [
    "len(two_years_df)"
   ]
  },
  {
   "cell_type": "code",
   "execution_count": 103,
   "metadata": {},
   "outputs": [
    {
     "data": {
      "text/plain": [
       "10054"
      ]
     },
     "execution_count": 103,
     "metadata": {},
     "output_type": "execute_result"
    }
   ],
   "source": [
    "len(df)"
   ]
  },
  {
   "cell_type": "code",
   "execution_count": 18,
   "metadata": {},
   "outputs": [
    {
     "name": "stdout",
     "output_type": "stream",
     "text": [
      "0.12102033702761884\n",
      "0.9806639819051832\n"
     ]
    }
   ],
   "source": [
    "print(df.target_probas.min())\n",
    "print(df.target_probas.max())"
   ]
  },
  {
   "cell_type": "code",
   "execution_count": null,
   "metadata": {},
   "outputs": [],
   "source": []
  }
 ],
 "metadata": {
  "kernelspec": {
   "display_name": "Python 3",
   "language": "python",
   "name": "python3"
  },
  "language_info": {
   "codemirror_mode": {
    "name": "ipython",
    "version": 3
   },
   "file_extension": ".py",
   "mimetype": "text/x-python",
   "name": "python",
   "nbconvert_exporter": "python",
   "pygments_lexer": "ipython3",
   "version": "3.7.3"
  }
 },
 "nbformat": 4,
 "nbformat_minor": 2
}
