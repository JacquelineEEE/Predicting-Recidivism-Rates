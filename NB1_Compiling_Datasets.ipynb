{
 "cells": [
  {
   "cell_type": "markdown",
   "metadata": {},
   "source": [
    "### Predicting Recidivism Rates - Notebook 1.\n",
    "In this notebook:\n",
    "1. The two `.csvs are merged` from the AWS scrape.\n",
    "2. The features related to the crime are created (not yet categorized).\n",
    "3. Anyone having more than 30 years remaining on their projected release date has been filtered out of the dataset. \n",
    "4. The target column has been created. The convicted crime is still visible in another column, and then we have our y of `1 or 0`. 1 indicates the inmate reoffended, 0 indicates they did not."
   ]
  },
  {
   "cell_type": "code",
   "execution_count": 25,
   "metadata": {},
   "outputs": [],
   "source": [
    "import pandas as pd"
   ]
  },
  {
   "cell_type": "code",
   "execution_count": 26,
   "metadata": {},
   "outputs": [],
   "source": [
    "pd.set_option('display.max_columns', 100)"
   ]
  },
  {
   "cell_type": "code",
   "execution_count": 27,
   "metadata": {},
   "outputs": [],
   "source": [
    "#need to move this into the GA folder\n",
    "inmate_details = pd.read_csv('../datasets/my_data/inmate_details_FINAL.csv')"
   ]
  },
  {
   "cell_type": "code",
   "execution_count": 28,
   "metadata": {},
   "outputs": [],
   "source": [
    "#need to move this into the GA folder\n",
    "priors = pd.read_csv('../datasets/my_data/priors_FINAL.csv')"
   ]
  },
  {
   "cell_type": "code",
   "execution_count": 29,
   "metadata": {},
   "outputs": [
    {
     "data": {
      "text/plain": [
       "(56600, 11)"
      ]
     },
     "execution_count": 29,
     "metadata": {},
     "output_type": "execute_result"
    }
   ],
   "source": [
    "inmate_details.shape"
   ]
  },
  {
   "cell_type": "code",
   "execution_count": 30,
   "metadata": {},
   "outputs": [
    {
     "data": {
      "text/plain": [
       "(47500, 19)"
      ]
     },
     "execution_count": 30,
     "metadata": {},
     "output_type": "execute_result"
    }
   ],
   "source": [
    "priors.shape"
   ]
  },
  {
   "cell_type": "code",
   "execution_count": 31,
   "metadata": {},
   "outputs": [
    {
     "data": {
      "text/plain": [
       "Unnamed: 0                         44199\n",
       "name                 Sergio Lopez-Garcia\n",
       "sex                                 Male\n",
       "race                            Hispanic\n",
       "age                                   30\n",
       "max_sentence                    15 years\n",
       "prison_unit                    Hightower\n",
       "DOB                             7/6/1989\n",
       "home_county                      Midland\n",
       "TDCJ_ID                          1831464\n",
       "proj_release_date              9/23/2027\n",
       "Name: 44199, dtype: object"
      ]
     },
     "execution_count": 31,
     "metadata": {},
     "output_type": "execute_result"
    }
   ],
   "source": [
    "inmate_details.loc[44_199]"
   ]
  },
  {
   "cell_type": "code",
   "execution_count": 32,
   "metadata": {},
   "outputs": [
    {
     "data": {
      "text/plain": [
       "Unnamed: 0                        44199\n",
       "name                Sergio Lopez-Garcia\n",
       "TDCJ_ID                         1831464\n",
       "pr_crime_0           AGG SEX ASLT CHILD\n",
       "pr_commit_date_0              9/23/2012\n",
       "pr_term_0                      15 years\n",
       "pr_begins_0                   9/23/2012\n",
       "pr_crime_1                      No_data\n",
       "pr_commit_date_1                No_data\n",
       "pr_term_1                       No_data\n",
       "pr_begins_1                     No_data\n",
       "pr_crime_2                      No_data\n",
       "pr_commit_date_2                No_data\n",
       "pr_term_2                       No_data\n",
       "pr_begins_2                     No_data\n",
       "pr_crime_3                      No_data\n",
       "pr_commit_date_3                No_data\n",
       "pr_term_3                       No_data\n",
       "pr_begins_3                     No_data\n",
       "Name: 44199, dtype: object"
      ]
     },
     "execution_count": 32,
     "metadata": {},
     "output_type": "execute_result"
    }
   ],
   "source": [
    "priors.loc[44_199]"
   ]
  },
  {
   "cell_type": "code",
   "execution_count": 33,
   "metadata": {},
   "outputs": [
    {
     "data": {
      "text/html": [
       "<div>\n",
       "<style scoped>\n",
       "    .dataframe tbody tr th:only-of-type {\n",
       "        vertical-align: middle;\n",
       "    }\n",
       "\n",
       "    .dataframe tbody tr th {\n",
       "        vertical-align: top;\n",
       "    }\n",
       "\n",
       "    .dataframe thead th {\n",
       "        text-align: right;\n",
       "    }\n",
       "</style>\n",
       "<table border=\"1\" class=\"dataframe\">\n",
       "  <thead>\n",
       "    <tr style=\"text-align: right;\">\n",
       "      <th></th>\n",
       "      <th>Unnamed: 0</th>\n",
       "      <th>name</th>\n",
       "      <th>TDCJ_ID</th>\n",
       "      <th>pr_crime_0</th>\n",
       "      <th>pr_commit_date_0</th>\n",
       "      <th>pr_term_0</th>\n",
       "      <th>pr_begins_0</th>\n",
       "      <th>pr_crime_1</th>\n",
       "      <th>pr_commit_date_1</th>\n",
       "      <th>pr_term_1</th>\n",
       "      <th>pr_begins_1</th>\n",
       "      <th>pr_crime_2</th>\n",
       "      <th>pr_commit_date_2</th>\n",
       "      <th>pr_term_2</th>\n",
       "      <th>pr_begins_2</th>\n",
       "      <th>pr_crime_3</th>\n",
       "      <th>pr_commit_date_3</th>\n",
       "      <th>pr_term_3</th>\n",
       "      <th>pr_begins_3</th>\n",
       "    </tr>\n",
       "  </thead>\n",
       "  <tbody>\n",
       "    <tr>\n",
       "      <th>0</th>\n",
       "      <td>0</td>\n",
       "      <td>Micah Troy Duncan</td>\n",
       "      <td>1753676</td>\n",
       "      <td>CAPITAL MURDER PERSON U/SIX YR</td>\n",
       "      <td>9/9/2010</td>\n",
       "      <td>Life Without Parole</td>\n",
       "      <td>9/15/2010</td>\n",
       "      <td>No_data</td>\n",
       "      <td>No_data</td>\n",
       "      <td>No_data</td>\n",
       "      <td>No_data</td>\n",
       "      <td>No_data</td>\n",
       "      <td>No_data</td>\n",
       "      <td>No_data</td>\n",
       "      <td>No_data</td>\n",
       "      <td>No_data</td>\n",
       "      <td>No_data</td>\n",
       "      <td>No_data</td>\n",
       "      <td>No_data</td>\n",
       "    </tr>\n",
       "    <tr>\n",
       "      <th>1</th>\n",
       "      <td>1</td>\n",
       "      <td>Heyman Harold Guillory</td>\n",
       "      <td>1472234</td>\n",
       "      <td>CAPITAL MURDER</td>\n",
       "      <td>3/28/2007</td>\n",
       "      <td>Life Without Parole</td>\n",
       "      <td>3/29/2007</td>\n",
       "      <td>No_data</td>\n",
       "      <td>No_data</td>\n",
       "      <td>No_data</td>\n",
       "      <td>No_data</td>\n",
       "      <td>No_data</td>\n",
       "      <td>No_data</td>\n",
       "      <td>No_data</td>\n",
       "      <td>No_data</td>\n",
       "      <td>No_data</td>\n",
       "      <td>No_data</td>\n",
       "      <td>No_data</td>\n",
       "      <td>No_data</td>\n",
       "    </tr>\n",
       "  </tbody>\n",
       "</table>\n",
       "</div>"
      ],
      "text/plain": [
       "   Unnamed: 0                    name  TDCJ_ID  \\\n",
       "0           0       Micah Troy Duncan  1753676   \n",
       "1           1  Heyman Harold Guillory  1472234   \n",
       "\n",
       "                       pr_crime_0 pr_commit_date_0            pr_term_0  \\\n",
       "0  CAPITAL MURDER PERSON U/SIX YR         9/9/2010  Life Without Parole   \n",
       "1                  CAPITAL MURDER        3/28/2007  Life Without Parole   \n",
       "\n",
       "  pr_begins_0 pr_crime_1 pr_commit_date_1 pr_term_1 pr_begins_1 pr_crime_2  \\\n",
       "0   9/15/2010    No_data          No_data   No_data     No_data    No_data   \n",
       "1   3/29/2007    No_data          No_data   No_data     No_data    No_data   \n",
       "\n",
       "  pr_commit_date_2 pr_term_2 pr_begins_2 pr_crime_3 pr_commit_date_3  \\\n",
       "0          No_data   No_data     No_data    No_data          No_data   \n",
       "1          No_data   No_data     No_data    No_data          No_data   \n",
       "\n",
       "  pr_term_3 pr_begins_3  \n",
       "0   No_data     No_data  \n",
       "1   No_data     No_data  "
      ]
     },
     "execution_count": 33,
     "metadata": {},
     "output_type": "execute_result"
    }
   ],
   "source": [
    "priors[:2]"
   ]
  },
  {
   "cell_type": "code",
   "execution_count": 34,
   "metadata": {},
   "outputs": [
    {
     "data": {
      "text/html": [
       "<div>\n",
       "<style scoped>\n",
       "    .dataframe tbody tr th:only-of-type {\n",
       "        vertical-align: middle;\n",
       "    }\n",
       "\n",
       "    .dataframe tbody tr th {\n",
       "        vertical-align: top;\n",
       "    }\n",
       "\n",
       "    .dataframe thead th {\n",
       "        text-align: right;\n",
       "    }\n",
       "</style>\n",
       "<table border=\"1\" class=\"dataframe\">\n",
       "  <thead>\n",
       "    <tr style=\"text-align: right;\">\n",
       "      <th></th>\n",
       "      <th>Unnamed: 0</th>\n",
       "      <th>name</th>\n",
       "      <th>sex</th>\n",
       "      <th>race</th>\n",
       "      <th>age</th>\n",
       "      <th>max_sentence</th>\n",
       "      <th>prison_unit</th>\n",
       "      <th>DOB</th>\n",
       "      <th>home_county</th>\n",
       "      <th>TDCJ_ID</th>\n",
       "      <th>proj_release_date</th>\n",
       "    </tr>\n",
       "  </thead>\n",
       "  <tbody>\n",
       "    <tr>\n",
       "      <th>0</th>\n",
       "      <td>0</td>\n",
       "      <td>Micah Troy Duncan</td>\n",
       "      <td>Male</td>\n",
       "      <td>White</td>\n",
       "      <td>32</td>\n",
       "      <td>7000 years</td>\n",
       "      <td>Allred</td>\n",
       "      <td>7/22/1987</td>\n",
       "      <td>Grayson</td>\n",
       "      <td>1753676</td>\n",
       "      <td>1/1/5555</td>\n",
       "    </tr>\n",
       "    <tr>\n",
       "      <th>1</th>\n",
       "      <td>1</td>\n",
       "      <td>Heyman Harold Guillory</td>\n",
       "      <td>Male</td>\n",
       "      <td>Black</td>\n",
       "      <td>44</td>\n",
       "      <td>7000 years</td>\n",
       "      <td>Allred</td>\n",
       "      <td>7/29/1975</td>\n",
       "      <td>No_data</td>\n",
       "      <td>1472234</td>\n",
       "      <td>1/1/5555</td>\n",
       "    </tr>\n",
       "  </tbody>\n",
       "</table>\n",
       "</div>"
      ],
      "text/plain": [
       "   Unnamed: 0                    name   sex   race  age max_sentence  \\\n",
       "0           0       Micah Troy Duncan  Male  White   32   7000 years   \n",
       "1           1  Heyman Harold Guillory  Male  Black   44   7000 years   \n",
       "\n",
       "  prison_unit        DOB home_county  TDCJ_ID proj_release_date  \n",
       "0      Allred  7/22/1987     Grayson  1753676          1/1/5555  \n",
       "1      Allred  7/29/1975     No_data  1472234          1/1/5555  "
      ]
     },
     "execution_count": 34,
     "metadata": {},
     "output_type": "execute_result"
    }
   ],
   "source": [
    "inmate_details[:2]"
   ]
  },
  {
   "cell_type": "code",
   "execution_count": 35,
   "metadata": {},
   "outputs": [
    {
     "data": {
      "text/plain": [
       "Unnamed: 0            0\n",
       "name                  0\n",
       "sex                   0\n",
       "race                  0\n",
       "age                   0\n",
       "max_sentence         48\n",
       "prison_unit           0\n",
       "DOB                   0\n",
       "home_county           0\n",
       "TDCJ_ID               0\n",
       "proj_release_date     0\n",
       "dtype: int64"
      ]
     },
     "execution_count": 35,
     "metadata": {},
     "output_type": "execute_result"
    }
   ],
   "source": [
    "inmate_details.isnull().sum()"
   ]
  },
  {
   "cell_type": "code",
   "execution_count": 36,
   "metadata": {},
   "outputs": [
    {
     "data": {
      "text/plain": [
       "Unnamed: 0            0\n",
       "name                  0\n",
       "TDCJ_ID               0\n",
       "pr_crime_0            0\n",
       "pr_commit_date_0      0\n",
       "pr_term_0            63\n",
       "pr_begins_0           0\n",
       "pr_crime_1            3\n",
       "pr_commit_date_1      0\n",
       "pr_term_1           455\n",
       "pr_begins_1           0\n",
       "pr_crime_2            5\n",
       "pr_commit_date_2      0\n",
       "pr_term_2           443\n",
       "pr_begins_2           0\n",
       "pr_crime_3            1\n",
       "pr_commit_date_3      0\n",
       "pr_term_3           398\n",
       "pr_begins_3           0\n",
       "dtype: int64"
      ]
     },
     "execution_count": 36,
     "metadata": {},
     "output_type": "execute_result"
    }
   ],
   "source": [
    "#looking at 'pr_term_0' - del those nulls \n",
    "priors.isnull().sum()"
   ]
  },
  {
   "cell_type": "code",
   "execution_count": 37,
   "metadata": {},
   "outputs": [],
   "source": [
    "df = pd.merge(priors, inmate_details, how= 'left') #need the smaller df first"
   ]
  },
  {
   "cell_type": "code",
   "execution_count": 38,
   "metadata": {},
   "outputs": [
    {
     "data": {
      "text/plain": [
       "(47500, 27)"
      ]
     },
     "execution_count": 38,
     "metadata": {},
     "output_type": "execute_result"
    }
   ],
   "source": [
    "df.shape"
   ]
  },
  {
   "cell_type": "code",
   "execution_count": 39,
   "metadata": {},
   "outputs": [
    {
     "data": {
      "text/plain": [
       "47500"
      ]
     },
     "execution_count": 39,
     "metadata": {},
     "output_type": "execute_result"
    }
   ],
   "source": [
    "df['TDCJ_ID'].nunique()"
   ]
  },
  {
   "cell_type": "code",
   "execution_count": 40,
   "metadata": {},
   "outputs": [],
   "source": [
    "df = df.drop(columns = 'Unnamed: 0')"
   ]
  },
  {
   "cell_type": "code",
   "execution_count": 41,
   "metadata": {},
   "outputs": [],
   "source": [
    "df.dropna(subset =['pr_term_0'], inplace=True)"
   ]
  },
  {
   "cell_type": "code",
   "execution_count": 42,
   "metadata": {},
   "outputs": [
    {
     "data": {
      "text/html": [
       "<div>\n",
       "<style scoped>\n",
       "    .dataframe tbody tr th:only-of-type {\n",
       "        vertical-align: middle;\n",
       "    }\n",
       "\n",
       "    .dataframe tbody tr th {\n",
       "        vertical-align: top;\n",
       "    }\n",
       "\n",
       "    .dataframe thead th {\n",
       "        text-align: right;\n",
       "    }\n",
       "</style>\n",
       "<table border=\"1\" class=\"dataframe\">\n",
       "  <thead>\n",
       "    <tr style=\"text-align: right;\">\n",
       "      <th></th>\n",
       "      <th>name</th>\n",
       "      <th>TDCJ_ID</th>\n",
       "      <th>pr_crime_0</th>\n",
       "      <th>pr_commit_date_0</th>\n",
       "      <th>pr_term_0</th>\n",
       "      <th>pr_begins_0</th>\n",
       "      <th>pr_crime_1</th>\n",
       "      <th>pr_commit_date_1</th>\n",
       "      <th>pr_term_1</th>\n",
       "      <th>pr_begins_1</th>\n",
       "      <th>pr_crime_2</th>\n",
       "      <th>pr_commit_date_2</th>\n",
       "      <th>pr_term_2</th>\n",
       "      <th>pr_begins_2</th>\n",
       "      <th>pr_crime_3</th>\n",
       "      <th>pr_commit_date_3</th>\n",
       "      <th>pr_term_3</th>\n",
       "      <th>pr_begins_3</th>\n",
       "      <th>sex</th>\n",
       "      <th>race</th>\n",
       "      <th>age</th>\n",
       "      <th>max_sentence</th>\n",
       "      <th>prison_unit</th>\n",
       "      <th>DOB</th>\n",
       "      <th>home_county</th>\n",
       "      <th>proj_release_date</th>\n",
       "    </tr>\n",
       "  </thead>\n",
       "  <tbody>\n",
       "    <tr>\n",
       "      <th>0</th>\n",
       "      <td>Micah Troy Duncan</td>\n",
       "      <td>1753676</td>\n",
       "      <td>CAPITAL MURDER PERSON U/SIX YR</td>\n",
       "      <td>9/9/2010</td>\n",
       "      <td>Life Without Parole</td>\n",
       "      <td>9/15/2010</td>\n",
       "      <td>No_data</td>\n",
       "      <td>No_data</td>\n",
       "      <td>No_data</td>\n",
       "      <td>No_data</td>\n",
       "      <td>No_data</td>\n",
       "      <td>No_data</td>\n",
       "      <td>No_data</td>\n",
       "      <td>No_data</td>\n",
       "      <td>No_data</td>\n",
       "      <td>No_data</td>\n",
       "      <td>No_data</td>\n",
       "      <td>No_data</td>\n",
       "      <td>Male</td>\n",
       "      <td>White</td>\n",
       "      <td>32</td>\n",
       "      <td>7000 years</td>\n",
       "      <td>Allred</td>\n",
       "      <td>7/22/1987</td>\n",
       "      <td>Grayson</td>\n",
       "      <td>1/1/5555</td>\n",
       "    </tr>\n",
       "    <tr>\n",
       "      <th>1</th>\n",
       "      <td>Heyman Harold Guillory</td>\n",
       "      <td>1472234</td>\n",
       "      <td>CAPITAL MURDER</td>\n",
       "      <td>3/28/2007</td>\n",
       "      <td>Life Without Parole</td>\n",
       "      <td>3/29/2007</td>\n",
       "      <td>No_data</td>\n",
       "      <td>No_data</td>\n",
       "      <td>No_data</td>\n",
       "      <td>No_data</td>\n",
       "      <td>No_data</td>\n",
       "      <td>No_data</td>\n",
       "      <td>No_data</td>\n",
       "      <td>No_data</td>\n",
       "      <td>No_data</td>\n",
       "      <td>No_data</td>\n",
       "      <td>No_data</td>\n",
       "      <td>No_data</td>\n",
       "      <td>Male</td>\n",
       "      <td>Black</td>\n",
       "      <td>44</td>\n",
       "      <td>7000 years</td>\n",
       "      <td>Allred</td>\n",
       "      <td>7/29/1975</td>\n",
       "      <td>No_data</td>\n",
       "      <td>1/1/5555</td>\n",
       "    </tr>\n",
       "    <tr>\n",
       "      <th>2</th>\n",
       "      <td>Batiste Joseph Breaux, Jr</td>\n",
       "      <td>1954769</td>\n",
       "      <td>CAPITAL MURDER</td>\n",
       "      <td>8/5/2008</td>\n",
       "      <td>Life Without Parole</td>\n",
       "      <td>8/14/2008</td>\n",
       "      <td>BURG HABIT</td>\n",
       "      <td>1/4/2002</td>\n",
       "      <td>12 years</td>\n",
       "      <td>7/3/2003</td>\n",
       "      <td>No_data</td>\n",
       "      <td>No_data</td>\n",
       "      <td>No_data</td>\n",
       "      <td>No_data</td>\n",
       "      <td>No_data</td>\n",
       "      <td>No_data</td>\n",
       "      <td>No_data</td>\n",
       "      <td>No_data</td>\n",
       "      <td>Male</td>\n",
       "      <td>Black</td>\n",
       "      <td>36</td>\n",
       "      <td>7000 years</td>\n",
       "      <td>Allred</td>\n",
       "      <td>9/27/1982</td>\n",
       "      <td>Jefferson</td>\n",
       "      <td>1/1/5555</td>\n",
       "    </tr>\n",
       "    <tr>\n",
       "      <th>3</th>\n",
       "      <td>Glen Leon Dukes</td>\n",
       "      <td>2023028</td>\n",
       "      <td>CAPITAL MURDER</td>\n",
       "      <td>6/2/2012</td>\n",
       "      <td>Life Without Parole</td>\n",
       "      <td>2/7/2013</td>\n",
       "      <td>CONT TRAFF OF PERSONS</td>\n",
       "      <td>10/1/2011</td>\n",
       "      <td>Life</td>\n",
       "      <td>2/7/2013</td>\n",
       "      <td>CONT TRAFF OF PERSONS</td>\n",
       "      <td>10/1/2011</td>\n",
       "      <td>Life</td>\n",
       "      <td>2/7/2013</td>\n",
       "      <td>POSS C/S W/I DEL</td>\n",
       "      <td>11/8/2004</td>\n",
       "      <td>10 years</td>\n",
       "      <td>11/8/2004</td>\n",
       "      <td>Male</td>\n",
       "      <td>Black</td>\n",
       "      <td>50</td>\n",
       "      <td>7000 years</td>\n",
       "      <td>Allred</td>\n",
       "      <td>3/16/1969</td>\n",
       "      <td>Bexar</td>\n",
       "      <td>1/1/5555</td>\n",
       "    </tr>\n",
       "    <tr>\n",
       "      <th>4</th>\n",
       "      <td>Joshua Ray Juarez</td>\n",
       "      <td>1480997</td>\n",
       "      <td>CAPITAL MURDER</td>\n",
       "      <td>12/13/2006</td>\n",
       "      <td>Life Without Parole</td>\n",
       "      <td>12/15/2006</td>\n",
       "      <td>No_data</td>\n",
       "      <td>No_data</td>\n",
       "      <td>No_data</td>\n",
       "      <td>No_data</td>\n",
       "      <td>No_data</td>\n",
       "      <td>No_data</td>\n",
       "      <td>No_data</td>\n",
       "      <td>No_data</td>\n",
       "      <td>No_data</td>\n",
       "      <td>No_data</td>\n",
       "      <td>No_data</td>\n",
       "      <td>No_data</td>\n",
       "      <td>Male</td>\n",
       "      <td>Hispanic</td>\n",
       "      <td>30</td>\n",
       "      <td>7000 years</td>\n",
       "      <td>Allred</td>\n",
       "      <td>4/13/1989</td>\n",
       "      <td>Harris</td>\n",
       "      <td>1/1/5555</td>\n",
       "    </tr>\n",
       "  </tbody>\n",
       "</table>\n",
       "</div>"
      ],
      "text/plain": [
       "                        name  TDCJ_ID                      pr_crime_0  \\\n",
       "0          Micah Troy Duncan  1753676  CAPITAL MURDER PERSON U/SIX YR   \n",
       "1     Heyman Harold Guillory  1472234                  CAPITAL MURDER   \n",
       "2  Batiste Joseph Breaux, Jr  1954769                  CAPITAL MURDER   \n",
       "3            Glen Leon Dukes  2023028                  CAPITAL MURDER   \n",
       "4          Joshua Ray Juarez  1480997                  CAPITAL MURDER   \n",
       "\n",
       "  pr_commit_date_0            pr_term_0 pr_begins_0             pr_crime_1  \\\n",
       "0         9/9/2010  Life Without Parole   9/15/2010                No_data   \n",
       "1        3/28/2007  Life Without Parole   3/29/2007                No_data   \n",
       "2         8/5/2008  Life Without Parole   8/14/2008             BURG HABIT   \n",
       "3         6/2/2012  Life Without Parole    2/7/2013  CONT TRAFF OF PERSONS   \n",
       "4       12/13/2006  Life Without Parole  12/15/2006                No_data   \n",
       "\n",
       "  pr_commit_date_1 pr_term_1 pr_begins_1             pr_crime_2  \\\n",
       "0          No_data   No_data     No_data                No_data   \n",
       "1          No_data   No_data     No_data                No_data   \n",
       "2         1/4/2002  12 years    7/3/2003                No_data   \n",
       "3        10/1/2011      Life    2/7/2013  CONT TRAFF OF PERSONS   \n",
       "4          No_data   No_data     No_data                No_data   \n",
       "\n",
       "  pr_commit_date_2 pr_term_2 pr_begins_2        pr_crime_3 pr_commit_date_3  \\\n",
       "0          No_data   No_data     No_data           No_data          No_data   \n",
       "1          No_data   No_data     No_data           No_data          No_data   \n",
       "2          No_data   No_data     No_data           No_data          No_data   \n",
       "3        10/1/2011      Life    2/7/2013  POSS C/S W/I DEL        11/8/2004   \n",
       "4          No_data   No_data     No_data           No_data          No_data   \n",
       "\n",
       "  pr_term_3 pr_begins_3   sex      race  age max_sentence prison_unit  \\\n",
       "0   No_data     No_data  Male     White   32   7000 years      Allred   \n",
       "1   No_data     No_data  Male     Black   44   7000 years      Allred   \n",
       "2   No_data     No_data  Male     Black   36   7000 years      Allred   \n",
       "3  10 years   11/8/2004  Male     Black   50   7000 years      Allred   \n",
       "4   No_data     No_data  Male  Hispanic   30   7000 years      Allred   \n",
       "\n",
       "         DOB home_county proj_release_date  \n",
       "0  7/22/1987     Grayson          1/1/5555  \n",
       "1  7/29/1975     No_data          1/1/5555  \n",
       "2  9/27/1982   Jefferson          1/1/5555  \n",
       "3  3/16/1969       Bexar          1/1/5555  \n",
       "4  4/13/1989      Harris          1/1/5555  "
      ]
     },
     "execution_count": 42,
     "metadata": {},
     "output_type": "execute_result"
    }
   ],
   "source": [
    "df[:5]"
   ]
  },
  {
   "cell_type": "code",
   "execution_count": 43,
   "metadata": {},
   "outputs": [],
   "source": [
    "#original merged datasets\n",
    "df.to_csv('../datasets/my_data/complete_raw_df.csv', index=False)"
   ]
  },
  {
   "cell_type": "markdown",
   "metadata": {},
   "source": [
    "Below getting the `proj_release_date` in a usable format to filter. For the actual model, only looking at inmates that have 30 years or fewer remaining on their sentence. \n",
    "\n",
    "Since some of the years are too far away (ie 5555), I have to create a function to get them to a reasonable spot, yet still clearly beyond the scope of what I would want for the model."
   ]
  },
  {
   "cell_type": "code",
   "execution_count": 44,
   "metadata": {},
   "outputs": [],
   "source": [
    "series = df['proj_release_date']"
   ]
  },
  {
   "cell_type": "code",
   "execution_count": 45,
   "metadata": {},
   "outputs": [],
   "source": [
    "split_series = []\n",
    "for term in series:\n",
    "    split_term = term.split('/')\n",
    "    \n",
    "    split_series.append(split_term)"
   ]
  },
  {
   "cell_type": "code",
   "execution_count": 46,
   "metadata": {},
   "outputs": [],
   "source": [
    "#getting rid of the crazy terms like '5555', '9999', and anything more than 130 years away\n",
    "for term in split_series:\n",
    "    term_int = int(term[2])\n",
    "    \n",
    "    if term_int > 2150:\n",
    "        term[2] = '2150'"
   ]
  },
  {
   "cell_type": "code",
   "execution_count": 47,
   "metadata": {},
   "outputs": [],
   "source": [
    "years = []\n",
    "for term in split_series:\n",
    "    years.append(term[2])"
   ]
  },
  {
   "cell_type": "code",
   "execution_count": 48,
   "metadata": {},
   "outputs": [],
   "source": [
    "list_years = []\n",
    "for term in years:\n",
    "    int_term = int(term)\n",
    "    \n",
    "    list_years.append(int_term)"
   ]
  },
  {
   "cell_type": "code",
   "execution_count": 49,
   "metadata": {},
   "outputs": [],
   "source": [
    "df['year_of_release'] = list_years"
   ]
  },
  {
   "cell_type": "code",
   "execution_count": 50,
   "metadata": {},
   "outputs": [],
   "source": [
    "#getting everything at 2150 filtered out of the dataset\n",
    "df = df[df['year_of_release'] != 2150]"
   ]
  },
  {
   "cell_type": "code",
   "execution_count": 51,
   "metadata": {},
   "outputs": [],
   "source": [
    "df['proj_release_date'] = pd.to_datetime(df['proj_release_date'])"
   ]
  },
  {
   "cell_type": "code",
   "execution_count": 52,
   "metadata": {},
   "outputs": [
    {
     "data": {
      "text/plain": [
       "name                         object\n",
       "TDCJ_ID                       int64\n",
       "pr_crime_0                   object\n",
       "pr_commit_date_0             object\n",
       "pr_term_0                    object\n",
       "pr_begins_0                  object\n",
       "pr_crime_1                   object\n",
       "pr_commit_date_1             object\n",
       "pr_term_1                    object\n",
       "pr_begins_1                  object\n",
       "pr_crime_2                   object\n",
       "pr_commit_date_2             object\n",
       "pr_term_2                    object\n",
       "pr_begins_2                  object\n",
       "pr_crime_3                   object\n",
       "pr_commit_date_3             object\n",
       "pr_term_3                    object\n",
       "pr_begins_3                  object\n",
       "sex                          object\n",
       "race                         object\n",
       "age                           int64\n",
       "max_sentence                 object\n",
       "prison_unit                  object\n",
       "DOB                          object\n",
       "home_county                  object\n",
       "proj_release_date    datetime64[ns]\n",
       "year_of_release               int64\n",
       "dtype: object"
      ]
     },
     "execution_count": 52,
     "metadata": {},
     "output_type": "execute_result"
    }
   ],
   "source": [
    "df.dtypes"
   ]
  },
  {
   "cell_type": "code",
   "execution_count": 53,
   "metadata": {},
   "outputs": [
    {
     "data": {
      "text/plain": [
       "322   2101-04-22\n",
       "323   2113-10-19\n",
       "Name: proj_release_date, dtype: datetime64[ns]"
      ]
     },
     "execution_count": 53,
     "metadata": {},
     "output_type": "execute_result"
    }
   ],
   "source": [
    "df['proj_release_date'][:2]"
   ]
  },
  {
   "cell_type": "code",
   "execution_count": 54,
   "metadata": {},
   "outputs": [
    {
     "data": {
      "text/plain": [
       "45148"
      ]
     },
     "execution_count": 54,
     "metadata": {},
     "output_type": "execute_result"
    }
   ],
   "source": [
    "#checking the shape before doing a large filter on release dates\n",
    "df.shape[0]"
   ]
  },
  {
   "cell_type": "code",
   "execution_count": 55,
   "metadata": {},
   "outputs": [],
   "source": [
    "#for the model, i only want to look at the inmates that have projected release in the next 30 years\n",
    "df = df[df['proj_release_date'] <= '2049-8-31']"
   ]
  },
  {
   "cell_type": "code",
   "execution_count": 56,
   "metadata": {},
   "outputs": [
    {
     "data": {
      "text/plain": [
       "40828"
      ]
     },
     "execution_count": 56,
     "metadata": {},
     "output_type": "execute_result"
    }
   ],
   "source": [
    "df.shape[0]"
   ]
  },
  {
   "cell_type": "code",
   "execution_count": 57,
   "metadata": {},
   "outputs": [
    {
     "data": {
      "text/plain": [
       "0"
      ]
     },
     "execution_count": 57,
     "metadata": {},
     "output_type": "execute_result"
    }
   ],
   "source": [
    "#confirming the filter worked correctly\n",
    "len(df[df['proj_release_date'] > '2049-9-01'])"
   ]
  },
  {
   "cell_type": "code",
   "execution_count": 58,
   "metadata": {},
   "outputs": [
    {
     "data": {
      "text/html": [
       "<div>\n",
       "<style scoped>\n",
       "    .dataframe tbody tr th:only-of-type {\n",
       "        vertical-align: middle;\n",
       "    }\n",
       "\n",
       "    .dataframe tbody tr th {\n",
       "        vertical-align: top;\n",
       "    }\n",
       "\n",
       "    .dataframe thead th {\n",
       "        text-align: right;\n",
       "    }\n",
       "</style>\n",
       "<table border=\"1\" class=\"dataframe\">\n",
       "  <thead>\n",
       "    <tr style=\"text-align: right;\">\n",
       "      <th></th>\n",
       "      <th>name</th>\n",
       "      <th>TDCJ_ID</th>\n",
       "      <th>pr_crime_0</th>\n",
       "      <th>pr_commit_date_0</th>\n",
       "      <th>pr_term_0</th>\n",
       "      <th>pr_begins_0</th>\n",
       "      <th>pr_crime_1</th>\n",
       "      <th>pr_commit_date_1</th>\n",
       "      <th>pr_term_1</th>\n",
       "      <th>pr_begins_1</th>\n",
       "      <th>pr_crime_2</th>\n",
       "      <th>pr_commit_date_2</th>\n",
       "      <th>pr_term_2</th>\n",
       "      <th>pr_begins_2</th>\n",
       "      <th>pr_crime_3</th>\n",
       "      <th>pr_commit_date_3</th>\n",
       "      <th>pr_term_3</th>\n",
       "      <th>pr_begins_3</th>\n",
       "      <th>sex</th>\n",
       "      <th>race</th>\n",
       "      <th>age</th>\n",
       "      <th>max_sentence</th>\n",
       "      <th>prison_unit</th>\n",
       "      <th>DOB</th>\n",
       "      <th>home_county</th>\n",
       "      <th>proj_release_date</th>\n",
       "      <th>year_of_release</th>\n",
       "    </tr>\n",
       "  </thead>\n",
       "  <tbody>\n",
       "    <tr>\n",
       "      <th>590</th>\n",
       "      <td>Victor Cantu</td>\n",
       "      <td>327167</td>\n",
       "      <td>HARASSMENT BY PER/CORR FACIL</td>\n",
       "      <td>2/20/2003</td>\n",
       "      <td>9 years</td>\n",
       "      <td>2/20/2003</td>\n",
       "      <td>HARASSMENT BY PER/CORR FACIL</td>\n",
       "      <td>2/20/2003</td>\n",
       "      <td>9 years</td>\n",
       "      <td>2/20/2003</td>\n",
       "      <td>MURDER W/DEADLY WPN</td>\n",
       "      <td>3/3/1980</td>\n",
       "      <td>60 years</td>\n",
       "      <td>9/7/1980</td>\n",
       "      <td>No_data</td>\n",
       "      <td>No_data</td>\n",
       "      <td>No_data</td>\n",
       "      <td>No_data</td>\n",
       "      <td>Male</td>\n",
       "      <td>Hispanic</td>\n",
       "      <td>71</td>\n",
       "      <td>60 years</td>\n",
       "      <td>Allred</td>\n",
       "      <td>3/2/1948</td>\n",
       "      <td>Hockley</td>\n",
       "      <td>2044-11-23</td>\n",
       "      <td>2044</td>\n",
       "    </tr>\n",
       "    <tr>\n",
       "      <th>628</th>\n",
       "      <td>Pascual Gutierrez Salinas</td>\n",
       "      <td>394125</td>\n",
       "      <td>POSS DDLY WPM PENAL INSTI</td>\n",
       "      <td>7/19/1997</td>\n",
       "      <td>5 years</td>\n",
       "      <td>2/10/1998</td>\n",
       "      <td>MURDER</td>\n",
       "      <td>8/6/1984</td>\n",
       "      <td>60 years</td>\n",
       "      <td>8/6/1984</td>\n",
       "      <td>No_data</td>\n",
       "      <td>No_data</td>\n",
       "      <td>No_data</td>\n",
       "      <td>No_data</td>\n",
       "      <td>No_data</td>\n",
       "      <td>No_data</td>\n",
       "      <td>No_data</td>\n",
       "      <td>No_data</td>\n",
       "      <td>Male</td>\n",
       "      <td>Hispanic</td>\n",
       "      <td>62</td>\n",
       "      <td>60 years</td>\n",
       "      <td>Allred</td>\n",
       "      <td>4/21/1957</td>\n",
       "      <td>Cameron</td>\n",
       "      <td>2047-08-16</td>\n",
       "      <td>2047</td>\n",
       "    </tr>\n",
       "  </tbody>\n",
       "</table>\n",
       "</div>"
      ],
      "text/plain": [
       "                          name  TDCJ_ID                    pr_crime_0  \\\n",
       "590               Victor Cantu   327167  HARASSMENT BY PER/CORR FACIL   \n",
       "628  Pascual Gutierrez Salinas   394125     POSS DDLY WPM PENAL INSTI   \n",
       "\n",
       "    pr_commit_date_0 pr_term_0 pr_begins_0                    pr_crime_1  \\\n",
       "590        2/20/2003   9 years   2/20/2003  HARASSMENT BY PER/CORR FACIL   \n",
       "628        7/19/1997   5 years   2/10/1998                        MURDER   \n",
       "\n",
       "    pr_commit_date_1 pr_term_1 pr_begins_1           pr_crime_2  \\\n",
       "590        2/20/2003   9 years   2/20/2003  MURDER W/DEADLY WPN   \n",
       "628         8/6/1984  60 years    8/6/1984              No_data   \n",
       "\n",
       "    pr_commit_date_2 pr_term_2 pr_begins_2 pr_crime_3 pr_commit_date_3  \\\n",
       "590         3/3/1980  60 years    9/7/1980    No_data          No_data   \n",
       "628          No_data   No_data     No_data    No_data          No_data   \n",
       "\n",
       "    pr_term_3 pr_begins_3   sex      race  age max_sentence prison_unit  \\\n",
       "590   No_data     No_data  Male  Hispanic   71     60 years      Allred   \n",
       "628   No_data     No_data  Male  Hispanic   62     60 years      Allred   \n",
       "\n",
       "           DOB home_county proj_release_date  year_of_release  \n",
       "590   3/2/1948     Hockley        2044-11-23             2044  \n",
       "628  4/21/1957     Cameron        2047-08-16             2047  "
      ]
     },
     "execution_count": 58,
     "metadata": {},
     "output_type": "execute_result"
    }
   ],
   "source": [
    "df[:2]"
   ]
  },
  {
   "cell_type": "markdown",
   "metadata": {},
   "source": [
    "Below setting up the function and mapping each row to fill out `feature_crime` with the appropriate crime. This is the first crime the inmate committed (that's been scraped). "
   ]
  },
  {
   "cell_type": "code",
   "execution_count": 59,
   "metadata": {},
   "outputs": [
    {
     "data": {
      "text/html": [
       "<div>\n",
       "<style scoped>\n",
       "    .dataframe tbody tr th:only-of-type {\n",
       "        vertical-align: middle;\n",
       "    }\n",
       "\n",
       "    .dataframe tbody tr th {\n",
       "        vertical-align: top;\n",
       "    }\n",
       "\n",
       "    .dataframe thead th {\n",
       "        text-align: right;\n",
       "    }\n",
       "</style>\n",
       "<table border=\"1\" class=\"dataframe\">\n",
       "  <thead>\n",
       "    <tr style=\"text-align: right;\">\n",
       "      <th></th>\n",
       "      <th>name</th>\n",
       "      <th>TDCJ_ID</th>\n",
       "      <th>pr_crime_0</th>\n",
       "      <th>pr_commit_date_0</th>\n",
       "      <th>pr_term_0</th>\n",
       "      <th>pr_begins_0</th>\n",
       "      <th>pr_crime_1</th>\n",
       "      <th>pr_commit_date_1</th>\n",
       "      <th>pr_term_1</th>\n",
       "      <th>pr_begins_1</th>\n",
       "      <th>pr_crime_2</th>\n",
       "      <th>pr_commit_date_2</th>\n",
       "      <th>pr_term_2</th>\n",
       "      <th>pr_begins_2</th>\n",
       "      <th>pr_crime_3</th>\n",
       "      <th>pr_commit_date_3</th>\n",
       "      <th>pr_term_3</th>\n",
       "      <th>pr_begins_3</th>\n",
       "      <th>sex</th>\n",
       "      <th>race</th>\n",
       "      <th>age</th>\n",
       "      <th>max_sentence</th>\n",
       "      <th>prison_unit</th>\n",
       "      <th>DOB</th>\n",
       "      <th>home_county</th>\n",
       "      <th>proj_release_date</th>\n",
       "      <th>year_of_release</th>\n",
       "    </tr>\n",
       "  </thead>\n",
       "  <tbody>\n",
       "  </tbody>\n",
       "</table>\n",
       "</div>"
      ],
      "text/plain": [
       "Empty DataFrame\n",
       "Columns: [name, TDCJ_ID, pr_crime_0, pr_commit_date_0, pr_term_0, pr_begins_0, pr_crime_1, pr_commit_date_1, pr_term_1, pr_begins_1, pr_crime_2, pr_commit_date_2, pr_term_2, pr_begins_2, pr_crime_3, pr_commit_date_3, pr_term_3, pr_begins_3, sex, race, age, max_sentence, prison_unit, DOB, home_county, proj_release_date, year_of_release]\n",
       "Index: []"
      ]
     },
     "execution_count": 59,
     "metadata": {},
     "output_type": "execute_result"
    }
   ],
   "source": [
    "df[df['pr_crime_0'].str.contains('No')]"
   ]
  },
  {
   "cell_type": "code",
   "execution_count": 60,
   "metadata": {},
   "outputs": [
    {
     "data": {
      "text/plain": [
       "0"
      ]
     },
     "execution_count": 60,
     "metadata": {},
     "output_type": "execute_result"
    }
   ],
   "source": [
    "df['pr_crime_0'].isnull().sum()"
   ]
  },
  {
   "cell_type": "code",
   "execution_count": 61,
   "metadata": {},
   "outputs": [],
   "source": [
    "df['feature_crime'] = 'TBD'"
   ]
  },
  {
   "cell_type": "code",
   "execution_count": 62,
   "metadata": {},
   "outputs": [
    {
     "data": {
      "text/html": [
       "<div>\n",
       "<style scoped>\n",
       "    .dataframe tbody tr th:only-of-type {\n",
       "        vertical-align: middle;\n",
       "    }\n",
       "\n",
       "    .dataframe tbody tr th {\n",
       "        vertical-align: top;\n",
       "    }\n",
       "\n",
       "    .dataframe thead th {\n",
       "        text-align: right;\n",
       "    }\n",
       "</style>\n",
       "<table border=\"1\" class=\"dataframe\">\n",
       "  <thead>\n",
       "    <tr style=\"text-align: right;\">\n",
       "      <th></th>\n",
       "      <th>name</th>\n",
       "      <th>pr_crime_0</th>\n",
       "      <th>pr_crime_1</th>\n",
       "      <th>pr_crime_2</th>\n",
       "      <th>pr_crime_3</th>\n",
       "      <th>feature_crime</th>\n",
       "    </tr>\n",
       "  </thead>\n",
       "  <tbody>\n",
       "    <tr>\n",
       "      <th>590</th>\n",
       "      <td>Victor Cantu</td>\n",
       "      <td>HARASSMENT BY PER/CORR FACIL</td>\n",
       "      <td>HARASSMENT BY PER/CORR FACIL</td>\n",
       "      <td>MURDER W/DEADLY WPN</td>\n",
       "      <td>No_data</td>\n",
       "      <td>TBD</td>\n",
       "    </tr>\n",
       "    <tr>\n",
       "      <th>628</th>\n",
       "      <td>Pascual Gutierrez Salinas</td>\n",
       "      <td>POSS DDLY WPM PENAL INSTI</td>\n",
       "      <td>MURDER</td>\n",
       "      <td>No_data</td>\n",
       "      <td>No_data</td>\n",
       "      <td>TBD</td>\n",
       "    </tr>\n",
       "    <tr>\n",
       "      <th>638</th>\n",
       "      <td>Larry Dewayne Manuel</td>\n",
       "      <td>MURDER</td>\n",
       "      <td>No_data</td>\n",
       "      <td>No_data</td>\n",
       "      <td>No_data</td>\n",
       "      <td>TBD</td>\n",
       "    </tr>\n",
       "  </tbody>\n",
       "</table>\n",
       "</div>"
      ],
      "text/plain": [
       "                          name                    pr_crime_0  \\\n",
       "590               Victor Cantu  HARASSMENT BY PER/CORR FACIL   \n",
       "628  Pascual Gutierrez Salinas     POSS DDLY WPM PENAL INSTI   \n",
       "638       Larry Dewayne Manuel                        MURDER   \n",
       "\n",
       "                       pr_crime_1           pr_crime_2 pr_crime_3  \\\n",
       "590  HARASSMENT BY PER/CORR FACIL  MURDER W/DEADLY WPN    No_data   \n",
       "628                        MURDER              No_data    No_data   \n",
       "638                       No_data              No_data    No_data   \n",
       "\n",
       "    feature_crime  \n",
       "590           TBD  \n",
       "628           TBD  \n",
       "638           TBD  "
      ]
     },
     "execution_count": 62,
     "metadata": {},
     "output_type": "execute_result"
    }
   ],
   "source": [
    "df[['name', 'pr_crime_0', 'pr_crime_1', 'pr_crime_2', 'pr_crime_3', 'feature_crime']][:3]"
   ]
  },
  {
   "cell_type": "code",
   "execution_count": 63,
   "metadata": {},
   "outputs": [],
   "source": [
    "df = df.reset_index(drop=True)"
   ]
  },
  {
   "cell_type": "code",
   "execution_count": 64,
   "metadata": {},
   "outputs": [
    {
     "data": {
      "text/html": [
       "<div>\n",
       "<style scoped>\n",
       "    .dataframe tbody tr th:only-of-type {\n",
       "        vertical-align: middle;\n",
       "    }\n",
       "\n",
       "    .dataframe tbody tr th {\n",
       "        vertical-align: top;\n",
       "    }\n",
       "\n",
       "    .dataframe thead th {\n",
       "        text-align: right;\n",
       "    }\n",
       "</style>\n",
       "<table border=\"1\" class=\"dataframe\">\n",
       "  <thead>\n",
       "    <tr style=\"text-align: right;\">\n",
       "      <th></th>\n",
       "      <th>name</th>\n",
       "      <th>pr_crime_0</th>\n",
       "      <th>pr_crime_1</th>\n",
       "      <th>pr_crime_2</th>\n",
       "      <th>pr_crime_3</th>\n",
       "      <th>feature_crime</th>\n",
       "    </tr>\n",
       "  </thead>\n",
       "  <tbody>\n",
       "    <tr>\n",
       "      <th>0</th>\n",
       "      <td>Victor Cantu</td>\n",
       "      <td>HARASSMENT BY PER/CORR FACIL</td>\n",
       "      <td>HARASSMENT BY PER/CORR FACIL</td>\n",
       "      <td>MURDER W/DEADLY WPN</td>\n",
       "      <td>No_data</td>\n",
       "      <td>TBD</td>\n",
       "    </tr>\n",
       "    <tr>\n",
       "      <th>1</th>\n",
       "      <td>Pascual Gutierrez Salinas</td>\n",
       "      <td>POSS DDLY WPM PENAL INSTI</td>\n",
       "      <td>MURDER</td>\n",
       "      <td>No_data</td>\n",
       "      <td>No_data</td>\n",
       "      <td>TBD</td>\n",
       "    </tr>\n",
       "    <tr>\n",
       "      <th>2</th>\n",
       "      <td>Larry Dewayne Manuel</td>\n",
       "      <td>MURDER</td>\n",
       "      <td>No_data</td>\n",
       "      <td>No_data</td>\n",
       "      <td>No_data</td>\n",
       "      <td>TBD</td>\n",
       "    </tr>\n",
       "  </tbody>\n",
       "</table>\n",
       "</div>"
      ],
      "text/plain": [
       "                        name                    pr_crime_0  \\\n",
       "0               Victor Cantu  HARASSMENT BY PER/CORR FACIL   \n",
       "1  Pascual Gutierrez Salinas     POSS DDLY WPM PENAL INSTI   \n",
       "2       Larry Dewayne Manuel                        MURDER   \n",
       "\n",
       "                     pr_crime_1           pr_crime_2 pr_crime_3 feature_crime  \n",
       "0  HARASSMENT BY PER/CORR FACIL  MURDER W/DEADLY WPN    No_data           TBD  \n",
       "1                        MURDER              No_data    No_data           TBD  \n",
       "2                       No_data              No_data    No_data           TBD  "
      ]
     },
     "execution_count": 64,
     "metadata": {},
     "output_type": "execute_result"
    }
   ],
   "source": [
    "df[['name', 'pr_crime_0', 'pr_crime_1', 'pr_crime_2', 'pr_crime_3', 'feature_crime']][:3]"
   ]
  },
  {
   "cell_type": "code",
   "execution_count": 65,
   "metadata": {},
   "outputs": [
    {
     "data": {
      "text/plain": [
       "name                   Wayne Edward Cole\n",
       "TDCJ_ID                           358223\n",
       "pr_crime_0            BURG OF HABITATION\n",
       "pr_commit_date_0              11/28/1982\n",
       "pr_term_0                       55 years\n",
       "pr_begins_0                   12/10/1982\n",
       "pr_crime_1                       No_data\n",
       "pr_commit_date_1                 No_data\n",
       "pr_term_1                        No_data\n",
       "pr_begins_1                      No_data\n",
       "pr_crime_2                       No_data\n",
       "pr_commit_date_2                 No_data\n",
       "pr_term_2                        No_data\n",
       "pr_begins_2                      No_data\n",
       "pr_crime_3                       No_data\n",
       "pr_commit_date_3                 No_data\n",
       "pr_term_3                        No_data\n",
       "pr_begins_3                      No_data\n",
       "sex                                 Male\n",
       "race                               Black\n",
       "age                                   62\n",
       "max_sentence                    55 years\n",
       "prison_unit                       Allred\n",
       "DOB                           10/22/1956\n",
       "home_county                       Panola\n",
       "proj_release_date    2037-12-10 00:00:00\n",
       "year_of_release                     2037\n",
       "feature_crime                        TBD\n",
       "Name: 3, dtype: object"
      ]
     },
     "execution_count": 65,
     "metadata": {},
     "output_type": "execute_result"
    }
   ],
   "source": [
    "df.loc[3]"
   ]
  },
  {
   "cell_type": "code",
   "execution_count": 66,
   "metadata": {},
   "outputs": [],
   "source": [
    "def find_crime(row):\n",
    "    if row['pr_crime_3'] != 'No_data':\n",
    "        return row['pr_crime_3']\n",
    "    \n",
    "    elif row['pr_crime_2'] != 'No_data':\n",
    "        \n",
    "        return row['pr_crime_2']\n",
    "    \n",
    "    elif row['pr_crime_1'] != 'No_data':\n",
    "        return row['pr_crime_1']\n",
    "    \n",
    "    else:\n",
    "        return row['pr_crime_0']"
   ]
  },
  {
   "cell_type": "code",
   "execution_count": 67,
   "metadata": {},
   "outputs": [],
   "source": [
    "df['feature_crime'] = df.apply(find_crime, axis=1)"
   ]
  },
  {
   "cell_type": "code",
   "execution_count": 68,
   "metadata": {},
   "outputs": [
    {
     "data": {
      "text/html": [
       "<div>\n",
       "<style scoped>\n",
       "    .dataframe tbody tr th:only-of-type {\n",
       "        vertical-align: middle;\n",
       "    }\n",
       "\n",
       "    .dataframe tbody tr th {\n",
       "        vertical-align: top;\n",
       "    }\n",
       "\n",
       "    .dataframe thead th {\n",
       "        text-align: right;\n",
       "    }\n",
       "</style>\n",
       "<table border=\"1\" class=\"dataframe\">\n",
       "  <thead>\n",
       "    <tr style=\"text-align: right;\">\n",
       "      <th></th>\n",
       "      <th>name</th>\n",
       "      <th>pr_crime_0</th>\n",
       "      <th>pr_crime_1</th>\n",
       "      <th>pr_crime_2</th>\n",
       "      <th>pr_crime_3</th>\n",
       "      <th>feature_crime</th>\n",
       "    </tr>\n",
       "  </thead>\n",
       "  <tbody>\n",
       "    <tr>\n",
       "      <th>543</th>\n",
       "      <td>Jose Alonso Galindo</td>\n",
       "      <td>AGG ASLT PUB SERV/DW</td>\n",
       "      <td>No_data</td>\n",
       "      <td>No_data</td>\n",
       "      <td>No_data</td>\n",
       "      <td>AGG ASLT PUB SERV/DW</td>\n",
       "    </tr>\n",
       "    <tr>\n",
       "      <th>544</th>\n",
       "      <td>Litter Allen Ford</td>\n",
       "      <td>AGG ROBBERY</td>\n",
       "      <td>AGG ROBBERY</td>\n",
       "      <td>No_data</td>\n",
       "      <td>No_data</td>\n",
       "      <td>AGG ROBBERY</td>\n",
       "    </tr>\n",
       "    <tr>\n",
       "      <th>545</th>\n",
       "      <td>Brian Anthony Gamero</td>\n",
       "      <td>INTOX MANSLAUGHTER W/VEH</td>\n",
       "      <td>INTOX ASSLT W/VEH SBI</td>\n",
       "      <td>POSS CONT SUB 1-4G</td>\n",
       "      <td>No_data</td>\n",
       "      <td>POSS CONT SUB 1-4G</td>\n",
       "    </tr>\n",
       "    <tr>\n",
       "      <th>546</th>\n",
       "      <td>Samuel Hendricks</td>\n",
       "      <td>AGG ROBBERY</td>\n",
       "      <td>AGG ROBBERY</td>\n",
       "      <td>AGG ROBBERY</td>\n",
       "      <td>ROBBERY</td>\n",
       "      <td>ROBBERY</td>\n",
       "    </tr>\n",
       "  </tbody>\n",
       "</table>\n",
       "</div>"
      ],
      "text/plain": [
       "                     name                pr_crime_0             pr_crime_1  \\\n",
       "543   Jose Alonso Galindo      AGG ASLT PUB SERV/DW                No_data   \n",
       "544     Litter Allen Ford               AGG ROBBERY            AGG ROBBERY   \n",
       "545  Brian Anthony Gamero  INTOX MANSLAUGHTER W/VEH  INTOX ASSLT W/VEH SBI   \n",
       "546      Samuel Hendricks               AGG ROBBERY            AGG ROBBERY   \n",
       "\n",
       "             pr_crime_2 pr_crime_3         feature_crime  \n",
       "543             No_data    No_data  AGG ASLT PUB SERV/DW  \n",
       "544             No_data    No_data           AGG ROBBERY  \n",
       "545  POSS CONT SUB 1-4G    No_data    POSS CONT SUB 1-4G  \n",
       "546         AGG ROBBERY    ROBBERY               ROBBERY  "
      ]
     },
     "execution_count": 68,
     "metadata": {},
     "output_type": "execute_result"
    }
   ],
   "source": [
    "#checking == success\n",
    "df[['name', 'pr_crime_0', 'pr_crime_1', 'pr_crime_2', 'pr_crime_3', 'feature_crime']][543:547]"
   ]
  },
  {
   "cell_type": "code",
   "execution_count": 69,
   "metadata": {},
   "outputs": [],
   "source": [
    "def find_start_date(row):\n",
    "    if row['pr_begins_3'] != 'No_data':\n",
    "        return row['pr_begins_3']\n",
    "    \n",
    "    elif row['pr_begins_2'] != 'No_data':\n",
    "        \n",
    "        return row['pr_begins_2']\n",
    "    \n",
    "    elif row['pr_begins_1'] != 'No_data':\n",
    "        return row['pr_begins_1']\n",
    "    \n",
    "    else:\n",
    "        return row['pr_begins_0']"
   ]
  },
  {
   "cell_type": "code",
   "execution_count": 70,
   "metadata": {},
   "outputs": [],
   "source": [
    "df['feature_startdate'] = df.apply(find_start_date, axis=1)"
   ]
  },
  {
   "cell_type": "code",
   "execution_count": 71,
   "metadata": {},
   "outputs": [],
   "source": [
    "def find_term(row):\n",
    "    if row['pr_term_3'] != 'No_data':\n",
    "        return row['pr_term_3']\n",
    "    \n",
    "    elif row['pr_term_2'] != 'No_data':\n",
    "        \n",
    "        return row['pr_term_2']\n",
    "    \n",
    "    elif row['pr_term_1'] != 'No_data':\n",
    "        return row['pr_term_1']\n",
    "    \n",
    "    else:\n",
    "        return row['pr_term_0']"
   ]
  },
  {
   "cell_type": "code",
   "execution_count": 72,
   "metadata": {},
   "outputs": [],
   "source": [
    "#i might make this a feature, no? \n",
    "df['feature_term'] = df.apply(find_term, axis= 1)"
   ]
  },
  {
   "cell_type": "code",
   "execution_count": 73,
   "metadata": {},
   "outputs": [],
   "source": [
    "def find_commit_date(row):\n",
    "    if row['pr_commit_date_3'] != 'No_data':\n",
    "        return row['pr_commit_date_3']\n",
    "    \n",
    "    elif row['pr_commit_date_2'] != 'No_data':\n",
    "        \n",
    "        return row['pr_commit_date_2']\n",
    "    \n",
    "    elif row['pr_commit_date_1'] != 'No_data':\n",
    "        return row['pr_commit_date_1']\n",
    "    \n",
    "    else:\n",
    "        return row['pr_commit_date_0']"
   ]
  },
  {
   "cell_type": "code",
   "execution_count": 74,
   "metadata": {},
   "outputs": [],
   "source": [
    "df['feature_commit_date'] = df.apply(find_commit_date, axis = 1)"
   ]
  },
  {
   "cell_type": "markdown",
   "metadata": {},
   "source": [
    "Creating the `target_value` column."
   ]
  },
  {
   "cell_type": "code",
   "execution_count": 75,
   "metadata": {},
   "outputs": [
    {
     "data": {
      "text/plain": [
       "name                     Damicio A Sanchez\n",
       "TDCJ_ID                             701616\n",
       "pr_crime_0               INDECENCY W/CHILD\n",
       "pr_commit_date_0                 4/10/1994\n",
       "pr_term_0                         55 years\n",
       "pr_begins_0                      4/10/1994\n",
       "pr_crime_1                         No_data\n",
       "pr_commit_date_1                   No_data\n",
       "pr_term_1                          No_data\n",
       "pr_begins_1                        No_data\n",
       "pr_crime_2                         No_data\n",
       "pr_commit_date_2                   No_data\n",
       "pr_term_2                          No_data\n",
       "pr_begins_2                        No_data\n",
       "pr_crime_3                         No_data\n",
       "pr_commit_date_3                   No_data\n",
       "pr_term_3                          No_data\n",
       "pr_begins_3                        No_data\n",
       "sex                                   Male\n",
       "race                              Hispanic\n",
       "age                                     79\n",
       "max_sentence                      55 years\n",
       "prison_unit                         Allred\n",
       "DOB                             11/12/1939\n",
       "home_county                         Nueces\n",
       "proj_release_date      2049-04-09 00:00:00\n",
       "year_of_release                       2049\n",
       "feature_crime            INDECENCY W/CHILD\n",
       "feature_startdate                4/10/1994\n",
       "feature_term                      55 years\n",
       "feature_commit_date              4/10/1994\n",
       "Name: 5, dtype: object"
      ]
     },
     "execution_count": 75,
     "metadata": {},
     "output_type": "execute_result"
    }
   ],
   "source": [
    "df.loc[5]"
   ]
  },
  {
   "cell_type": "code",
   "execution_count": 76,
   "metadata": {},
   "outputs": [
    {
     "name": "stdout",
     "output_type": "stream",
     "text": [
      "No_data\n",
      "No_data\n",
      "No_data\n",
      "INDECENCY W/CHILD\n"
     ]
    }
   ],
   "source": [
    "#checking each for the most updated version\n",
    "#i either made a mistake before (prob) or the df is in a diff order this time \n",
    "print(df.loc[5][14]) #pc_3\n",
    "print(df.loc[5][10]) #pc_2\n",
    "print(df.loc[5][6]) #pc_1\n",
    "print(df.loc[5][2]) #pc_0 (aka current)"
   ]
  },
  {
   "cell_type": "code",
   "execution_count": 77,
   "metadata": {},
   "outputs": [],
   "source": [
    "#need to check this each time as I adjust the filter release range to confirm\n",
    "target_list = []\n",
    "\n",
    "for i in range(0, df.shape[0]):\n",
    "    pc_3 = df.loc[i][14]\n",
    "    pc_2 = df.loc[i][10]\n",
    "    pc_1 = df.loc[i][6]\n",
    "    pc_0 = df.loc[i][2]\n",
    "    \n",
    "    if pc_3 != 'No_data':\n",
    "        target_list.append(pc_2)\n",
    "        \n",
    "    elif pc_2 != 'No_data':\n",
    "        target_list.append(pc_1)\n",
    "    \n",
    "    elif pc_1 != 'No_data':\n",
    "        target_list.append(pc_0)\n",
    "    \n",
    "    elif pc_0 != 'No_data':\n",
    "        target_list.append(0) #this means current is only, no reoffending at this time"
   ]
  },
  {
   "cell_type": "code",
   "execution_count": 78,
   "metadata": {},
   "outputs": [
    {
     "data": {
      "text/plain": [
       "['HARASSMENT BY PER/CORR FACIL',\n",
       " 'POSS DDLY WPM PENAL INSTI',\n",
       " 0,\n",
       " 0,\n",
       " 0,\n",
       " 0,\n",
       " 0,\n",
       " 'CONSPIRACY TO COMM. MURDER',\n",
       " 0,\n",
       " 0]"
      ]
     },
     "execution_count": 78,
     "metadata": {},
     "output_type": "execute_result"
    }
   ],
   "source": [
    "#HAVE TO CHECK THIS - IT WAS OFF\n",
    "target_list[:10]"
   ]
  },
  {
   "cell_type": "code",
   "execution_count": 79,
   "metadata": {},
   "outputs": [
    {
     "data": {
      "text/plain": [
       "40828"
      ]
     },
     "execution_count": 79,
     "metadata": {},
     "output_type": "execute_result"
    }
   ],
   "source": [
    "df.shape[0]"
   ]
  },
  {
   "cell_type": "code",
   "execution_count": 80,
   "metadata": {},
   "outputs": [
    {
     "data": {
      "text/plain": [
       "40828"
      ]
     },
     "execution_count": 80,
     "metadata": {},
     "output_type": "execute_result"
    }
   ],
   "source": [
    "len(target_list)"
   ]
  },
  {
   "cell_type": "code",
   "execution_count": 81,
   "metadata": {},
   "outputs": [],
   "source": [
    "df['target_value'] = target_list"
   ]
  },
  {
   "cell_type": "code",
   "execution_count": 82,
   "metadata": {},
   "outputs": [
    {
     "data": {
      "text/plain": [
       "0    HARASSMENT BY PER/CORR FACIL\n",
       "1       POSS DDLY WPM PENAL INSTI\n",
       "2                               0\n",
       "3                               0\n",
       "4                               0\n",
       "Name: target_value, dtype: object"
      ]
     },
     "execution_count": 82,
     "metadata": {},
     "output_type": "execute_result"
    }
   ],
   "source": [
    "df['target_value'][:5]"
   ]
  },
  {
   "cell_type": "code",
   "execution_count": 83,
   "metadata": {},
   "outputs": [],
   "source": [
    "def target(cell):\n",
    "    if cell != 0:\n",
    "        return 1\n",
    "    else:\n",
    "        return cell"
   ]
  },
  {
   "cell_type": "code",
   "execution_count": 84,
   "metadata": {},
   "outputs": [],
   "source": [
    "df['final_target'] = df['target_value'].apply(target)"
   ]
  },
  {
   "cell_type": "code",
   "execution_count": 85,
   "metadata": {},
   "outputs": [
    {
     "data": {
      "text/html": [
       "<div>\n",
       "<style scoped>\n",
       "    .dataframe tbody tr th:only-of-type {\n",
       "        vertical-align: middle;\n",
       "    }\n",
       "\n",
       "    .dataframe tbody tr th {\n",
       "        vertical-align: top;\n",
       "    }\n",
       "\n",
       "    .dataframe thead th {\n",
       "        text-align: right;\n",
       "    }\n",
       "</style>\n",
       "<table border=\"1\" class=\"dataframe\">\n",
       "  <thead>\n",
       "    <tr style=\"text-align: right;\">\n",
       "      <th></th>\n",
       "      <th>name</th>\n",
       "      <th>TDCJ_ID</th>\n",
       "      <th>pr_crime_0</th>\n",
       "      <th>pr_commit_date_0</th>\n",
       "      <th>pr_term_0</th>\n",
       "      <th>pr_begins_0</th>\n",
       "      <th>pr_crime_1</th>\n",
       "      <th>pr_commit_date_1</th>\n",
       "      <th>pr_term_1</th>\n",
       "      <th>pr_begins_1</th>\n",
       "      <th>pr_crime_2</th>\n",
       "      <th>pr_commit_date_2</th>\n",
       "      <th>pr_term_2</th>\n",
       "      <th>pr_begins_2</th>\n",
       "      <th>pr_crime_3</th>\n",
       "      <th>pr_commit_date_3</th>\n",
       "      <th>pr_term_3</th>\n",
       "      <th>pr_begins_3</th>\n",
       "      <th>sex</th>\n",
       "      <th>race</th>\n",
       "      <th>age</th>\n",
       "      <th>max_sentence</th>\n",
       "      <th>prison_unit</th>\n",
       "      <th>DOB</th>\n",
       "      <th>home_county</th>\n",
       "      <th>proj_release_date</th>\n",
       "      <th>year_of_release</th>\n",
       "      <th>feature_crime</th>\n",
       "      <th>feature_startdate</th>\n",
       "      <th>feature_term</th>\n",
       "      <th>feature_commit_date</th>\n",
       "      <th>target_value</th>\n",
       "      <th>final_target</th>\n",
       "    </tr>\n",
       "  </thead>\n",
       "  <tbody>\n",
       "    <tr>\n",
       "      <th>0</th>\n",
       "      <td>Victor Cantu</td>\n",
       "      <td>327167</td>\n",
       "      <td>HARASSMENT BY PER/CORR FACIL</td>\n",
       "      <td>2/20/2003</td>\n",
       "      <td>9 years</td>\n",
       "      <td>2/20/2003</td>\n",
       "      <td>HARASSMENT BY PER/CORR FACIL</td>\n",
       "      <td>2/20/2003</td>\n",
       "      <td>9 years</td>\n",
       "      <td>2/20/2003</td>\n",
       "      <td>MURDER W/DEADLY WPN</td>\n",
       "      <td>3/3/1980</td>\n",
       "      <td>60 years</td>\n",
       "      <td>9/7/1980</td>\n",
       "      <td>No_data</td>\n",
       "      <td>No_data</td>\n",
       "      <td>No_data</td>\n",
       "      <td>No_data</td>\n",
       "      <td>Male</td>\n",
       "      <td>Hispanic</td>\n",
       "      <td>71</td>\n",
       "      <td>60 years</td>\n",
       "      <td>Allred</td>\n",
       "      <td>3/2/1948</td>\n",
       "      <td>Hockley</td>\n",
       "      <td>2044-11-23</td>\n",
       "      <td>2044</td>\n",
       "      <td>MURDER W/DEADLY WPN</td>\n",
       "      <td>9/7/1980</td>\n",
       "      <td>60 years</td>\n",
       "      <td>3/3/1980</td>\n",
       "      <td>HARASSMENT BY PER/CORR FACIL</td>\n",
       "      <td>1</td>\n",
       "    </tr>\n",
       "    <tr>\n",
       "      <th>1</th>\n",
       "      <td>Pascual Gutierrez Salinas</td>\n",
       "      <td>394125</td>\n",
       "      <td>POSS DDLY WPM PENAL INSTI</td>\n",
       "      <td>7/19/1997</td>\n",
       "      <td>5 years</td>\n",
       "      <td>2/10/1998</td>\n",
       "      <td>MURDER</td>\n",
       "      <td>8/6/1984</td>\n",
       "      <td>60 years</td>\n",
       "      <td>8/6/1984</td>\n",
       "      <td>No_data</td>\n",
       "      <td>No_data</td>\n",
       "      <td>No_data</td>\n",
       "      <td>No_data</td>\n",
       "      <td>No_data</td>\n",
       "      <td>No_data</td>\n",
       "      <td>No_data</td>\n",
       "      <td>No_data</td>\n",
       "      <td>Male</td>\n",
       "      <td>Hispanic</td>\n",
       "      <td>62</td>\n",
       "      <td>60 years</td>\n",
       "      <td>Allred</td>\n",
       "      <td>4/21/1957</td>\n",
       "      <td>Cameron</td>\n",
       "      <td>2047-08-16</td>\n",
       "      <td>2047</td>\n",
       "      <td>MURDER</td>\n",
       "      <td>8/6/1984</td>\n",
       "      <td>60 years</td>\n",
       "      <td>8/6/1984</td>\n",
       "      <td>POSS DDLY WPM PENAL INSTI</td>\n",
       "      <td>1</td>\n",
       "    </tr>\n",
       "    <tr>\n",
       "      <th>2</th>\n",
       "      <td>Larry Dewayne Manuel</td>\n",
       "      <td>843835</td>\n",
       "      <td>MURDER</td>\n",
       "      <td>2/2/1994</td>\n",
       "      <td>55 years</td>\n",
       "      <td>2/3/1994</td>\n",
       "      <td>No_data</td>\n",
       "      <td>No_data</td>\n",
       "      <td>No_data</td>\n",
       "      <td>No_data</td>\n",
       "      <td>No_data</td>\n",
       "      <td>No_data</td>\n",
       "      <td>No_data</td>\n",
       "      <td>No_data</td>\n",
       "      <td>No_data</td>\n",
       "      <td>No_data</td>\n",
       "      <td>No_data</td>\n",
       "      <td>No_data</td>\n",
       "      <td>Male</td>\n",
       "      <td>Black</td>\n",
       "      <td>42</td>\n",
       "      <td>55 years</td>\n",
       "      <td>Allred</td>\n",
       "      <td>3/12/1977</td>\n",
       "      <td>Dallas</td>\n",
       "      <td>2049-02-02</td>\n",
       "      <td>2049</td>\n",
       "      <td>MURDER</td>\n",
       "      <td>2/3/1994</td>\n",
       "      <td>55 years</td>\n",
       "      <td>2/2/1994</td>\n",
       "      <td>0</td>\n",
       "      <td>0</td>\n",
       "    </tr>\n",
       "    <tr>\n",
       "      <th>3</th>\n",
       "      <td>Wayne Edward Cole</td>\n",
       "      <td>358223</td>\n",
       "      <td>BURG OF HABITATION</td>\n",
       "      <td>11/28/1982</td>\n",
       "      <td>55 years</td>\n",
       "      <td>12/10/1982</td>\n",
       "      <td>No_data</td>\n",
       "      <td>No_data</td>\n",
       "      <td>No_data</td>\n",
       "      <td>No_data</td>\n",
       "      <td>No_data</td>\n",
       "      <td>No_data</td>\n",
       "      <td>No_data</td>\n",
       "      <td>No_data</td>\n",
       "      <td>No_data</td>\n",
       "      <td>No_data</td>\n",
       "      <td>No_data</td>\n",
       "      <td>No_data</td>\n",
       "      <td>Male</td>\n",
       "      <td>Black</td>\n",
       "      <td>62</td>\n",
       "      <td>55 years</td>\n",
       "      <td>Allred</td>\n",
       "      <td>10/22/1956</td>\n",
       "      <td>Panola</td>\n",
       "      <td>2037-12-10</td>\n",
       "      <td>2037</td>\n",
       "      <td>BURG OF HABITATION</td>\n",
       "      <td>12/10/1982</td>\n",
       "      <td>55 years</td>\n",
       "      <td>11/28/1982</td>\n",
       "      <td>0</td>\n",
       "      <td>0</td>\n",
       "    </tr>\n",
       "    <tr>\n",
       "      <th>4</th>\n",
       "      <td>Alberto Rivas</td>\n",
       "      <td>626012</td>\n",
       "      <td>MURDER W/DEADLY WPN</td>\n",
       "      <td>9/22/1991</td>\n",
       "      <td>55 years</td>\n",
       "      <td>9/22/1991</td>\n",
       "      <td>No_data</td>\n",
       "      <td>No_data</td>\n",
       "      <td>No_data</td>\n",
       "      <td>No_data</td>\n",
       "      <td>No_data</td>\n",
       "      <td>No_data</td>\n",
       "      <td>No_data</td>\n",
       "      <td>No_data</td>\n",
       "      <td>No_data</td>\n",
       "      <td>No_data</td>\n",
       "      <td>No_data</td>\n",
       "      <td>No_data</td>\n",
       "      <td>Male</td>\n",
       "      <td>Hispanic</td>\n",
       "      <td>51</td>\n",
       "      <td>55 years</td>\n",
       "      <td>Allred</td>\n",
       "      <td>5/13/1968</td>\n",
       "      <td>Hale</td>\n",
       "      <td>2046-09-22</td>\n",
       "      <td>2046</td>\n",
       "      <td>MURDER W/DEADLY WPN</td>\n",
       "      <td>9/22/1991</td>\n",
       "      <td>55 years</td>\n",
       "      <td>9/22/1991</td>\n",
       "      <td>0</td>\n",
       "      <td>0</td>\n",
       "    </tr>\n",
       "  </tbody>\n",
       "</table>\n",
       "</div>"
      ],
      "text/plain": [
       "                        name  TDCJ_ID                    pr_crime_0  \\\n",
       "0               Victor Cantu   327167  HARASSMENT BY PER/CORR FACIL   \n",
       "1  Pascual Gutierrez Salinas   394125     POSS DDLY WPM PENAL INSTI   \n",
       "2       Larry Dewayne Manuel   843835                        MURDER   \n",
       "3          Wayne Edward Cole   358223            BURG OF HABITATION   \n",
       "4              Alberto Rivas   626012           MURDER W/DEADLY WPN   \n",
       "\n",
       "  pr_commit_date_0 pr_term_0 pr_begins_0                    pr_crime_1  \\\n",
       "0        2/20/2003   9 years   2/20/2003  HARASSMENT BY PER/CORR FACIL   \n",
       "1        7/19/1997   5 years   2/10/1998                        MURDER   \n",
       "2         2/2/1994  55 years    2/3/1994                       No_data   \n",
       "3       11/28/1982  55 years  12/10/1982                       No_data   \n",
       "4        9/22/1991  55 years   9/22/1991                       No_data   \n",
       "\n",
       "  pr_commit_date_1 pr_term_1 pr_begins_1           pr_crime_2  \\\n",
       "0        2/20/2003   9 years   2/20/2003  MURDER W/DEADLY WPN   \n",
       "1         8/6/1984  60 years    8/6/1984              No_data   \n",
       "2          No_data   No_data     No_data              No_data   \n",
       "3          No_data   No_data     No_data              No_data   \n",
       "4          No_data   No_data     No_data              No_data   \n",
       "\n",
       "  pr_commit_date_2 pr_term_2 pr_begins_2 pr_crime_3 pr_commit_date_3  \\\n",
       "0         3/3/1980  60 years    9/7/1980    No_data          No_data   \n",
       "1          No_data   No_data     No_data    No_data          No_data   \n",
       "2          No_data   No_data     No_data    No_data          No_data   \n",
       "3          No_data   No_data     No_data    No_data          No_data   \n",
       "4          No_data   No_data     No_data    No_data          No_data   \n",
       "\n",
       "  pr_term_3 pr_begins_3   sex      race  age max_sentence prison_unit  \\\n",
       "0   No_data     No_data  Male  Hispanic   71     60 years      Allred   \n",
       "1   No_data     No_data  Male  Hispanic   62     60 years      Allred   \n",
       "2   No_data     No_data  Male     Black   42     55 years      Allred   \n",
       "3   No_data     No_data  Male     Black   62     55 years      Allred   \n",
       "4   No_data     No_data  Male  Hispanic   51     55 years      Allred   \n",
       "\n",
       "          DOB home_county proj_release_date  year_of_release  \\\n",
       "0    3/2/1948     Hockley        2044-11-23             2044   \n",
       "1   4/21/1957     Cameron        2047-08-16             2047   \n",
       "2   3/12/1977      Dallas        2049-02-02             2049   \n",
       "3  10/22/1956      Panola        2037-12-10             2037   \n",
       "4   5/13/1968        Hale        2046-09-22             2046   \n",
       "\n",
       "         feature_crime feature_startdate feature_term feature_commit_date  \\\n",
       "0  MURDER W/DEADLY WPN          9/7/1980     60 years            3/3/1980   \n",
       "1               MURDER          8/6/1984     60 years            8/6/1984   \n",
       "2               MURDER          2/3/1994     55 years            2/2/1994   \n",
       "3   BURG OF HABITATION        12/10/1982     55 years          11/28/1982   \n",
       "4  MURDER W/DEADLY WPN         9/22/1991     55 years           9/22/1991   \n",
       "\n",
       "                   target_value  final_target  \n",
       "0  HARASSMENT BY PER/CORR FACIL             1  \n",
       "1     POSS DDLY WPM PENAL INSTI             1  \n",
       "2                             0             0  \n",
       "3                             0             0  \n",
       "4                             0             0  "
      ]
     },
     "execution_count": 85,
     "metadata": {},
     "output_type": "execute_result"
    }
   ],
   "source": [
    "df[:5]"
   ]
  },
  {
   "cell_type": "markdown",
   "metadata": {},
   "source": [
    "In this notebook:\n",
    "1. The two `.csvs are merged`.\n",
    "2. The features related to the crime are created (not yet categorized).\n",
    "3. Anyone having more than 30 years remaining on their projected release date has been filtered out. \n",
    "4. The target column has been created. You can see both what they've done just for the visual, and also the `1 or 0`. "
   ]
  },
  {
   "cell_type": "code",
   "execution_count": 86,
   "metadata": {},
   "outputs": [],
   "source": [
    "#ALL models, regardless, start with this guy.\n",
    "df.to_csv('../datasets/my_data/feature_cats.csv', index=False)"
   ]
  },
  {
   "cell_type": "markdown",
   "metadata": {},
   "source": [
    "In the next notebook:\n",
    "1. Find `age` at the time of feature crime. \n",
    "2. Categorize crimes. \n",
    "2. Check value counts (`at the end`) and filter out random 1s for the holdout modeling."
   ]
  },
  {
   "cell_type": "code",
   "execution_count": null,
   "metadata": {},
   "outputs": [],
   "source": []
  }
 ],
 "metadata": {
  "kernelspec": {
   "display_name": "Python 3",
   "language": "python",
   "name": "python3"
  },
  "language_info": {
   "codemirror_mode": {
    "name": "ipython",
    "version": 3
   },
   "file_extension": ".py",
   "mimetype": "text/x-python",
   "name": "python",
   "nbconvert_exporter": "python",
   "pygments_lexer": "ipython3",
   "version": "3.7.3"
  }
 },
 "nbformat": 4,
 "nbformat_minor": 2
}
